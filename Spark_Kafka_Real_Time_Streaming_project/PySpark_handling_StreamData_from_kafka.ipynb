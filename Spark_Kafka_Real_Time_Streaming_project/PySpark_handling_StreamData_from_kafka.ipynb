{
 "cells": [
  {
   "cell_type": "code",
   "execution_count": 29,
   "id": "32f15a07-d788-4f4c-aad1-ee4b280b1e15",
   "metadata": {},
   "outputs": [],
   "source": [
    "#Package imported\n",
    "\n",
    "from pyspark.sql.functions import expr\n",
    "from pyspark.sql import SparkSession\n",
    "from pyspark.sql.types import StructType,StructField,FloatType\n",
    "from pyspark.sql.functions import from_json,col"
   ]
  },
  {
   "cell_type": "code",
   "execution_count": null,
   "id": "65b2542c-75c7-4086-8aab-bfe1a81c5e13",
   "metadata": {},
   "outputs": [],
   "source": [
    "#Initialize the spark session\n",
    "spark = ( \n",
    "    SparkSession\n",
    "    .builder\n",
    "    .master(\"local[*]\")\n",
    "    .appName(\"Spark streaming from kafka\")\n",
    "    .config(\"spark.streaming.stopGracefulluOnShutdown\", True)\n",
    "    .config(\"spark.jars.packages\", 'org.apache.spark:spark-sql-kafka-0-10_2.12:3.3.0')\n",
    "    .config(\"spark.sql.shufflle.partitions\",1)\n",
    "    .getOrCreate()\n",
    ")\n",
    "    "
   ]
  },
  {
   "cell_type": "code",
   "execution_count": 30,
   "id": "04a26467-e34a-4246-957c-39b486d02e48",
   "metadata": {},
   "outputs": [],
   "source": [
    "#Set the kafka readStream\n",
    "kafka_df =(\n",
    "    spark\n",
    "    .readStream\n",
    "    .format(\"kafka\")\n",
    "    .option(\"kafka.bootstrap.servers\",\"ed-kafka:29092\")\n",
    "    .option(\"subscribe\", \"streaming\")\n",
    "    .option(\"startingoffsets\", \"earliest\")\n",
    "    .load()\n",
    ")"
   ]
  },
  {
   "cell_type": "code",
   "execution_count": 31,
   "id": "15dbb865-de2c-4d82-9173-644ef40f2eff",
   "metadata": {},
   "outputs": [],
   "source": [
    "#Parse the value of the stream data from binary to String\n",
    "\n",
    "kafka_json_df= kafka_df.withColumn(\"value\",expr(\"cast(value as string)\"))"
   ]
  },
  {
   "cell_type": "code",
   "execution_count": 32,
   "id": "77f9dfa2-6817-4575-8f2b-12060a7fdb5f",
   "metadata": {},
   "outputs": [],
   "source": [
    "#Set the json_schema\n",
    "\n",
    "json_schema=(\n",
    "    StructType(\n",
    "        [StructField('Price',FloatType(),True),\n",
    "         StructField('Volume',FloatType(), True),\n",
    "         StructField('TrailingPE',FloatType(), True)]))\n",
    "    \n",
    "        \n",
    "        "
   ]
  },
  {
   "cell_type": "code",
   "execution_count": 33,
   "id": "7dec49c2-5064-4557-bc91-d1cc727e3a6c",
   "metadata": {},
   "outputs": [],
   "source": [
    "#Apply the json_schema to the value_json of the data\n",
    "\n",
    "streaming_df=kafka_json_df.withColumn(\"value_json\", from_json(col(\"value\"),json_schema)).selectExpr(\"value_json.*\")"
   ]
  },
  {
   "cell_type": "code",
   "execution_count": 40,
   "id": "8ab34f9b-3b2d-4467-93bf-177321020002",
   "metadata": {},
   "outputs": [],
   "source": [
    "#Function for writing the stream data to streaming.parquet\n",
    "\n",
    "def write_par(df,batch_id):\n",
    "    df.write.format(\"parquet\").mode(\"append\").save(\"data/streaming.parquet/\")"
   ]
  },
  {
   "cell_type": "code",
   "execution_count": null,
   "id": "8c14df90-8bd7-4c0f-8bc0-e34ee3dcd300",
   "metadata": {},
   "outputs": [],
   "source": [
    "#Use writeStream to write the streaming data to streaming.parquet\n",
    "\n",
    "streaming_df.writeStream.foreachBatch(write_par).trigger(processingTime=\"10 seconds\").option(\"checkpointLocation\",\"check_point_dir_kafka\").start().awaitTermination()"
   ]
  },
  {
   "cell_type": "code",
   "execution_count": null,
   "id": "08a90171-89d3-4298-aaee-bec951b79e23",
   "metadata": {},
   "outputs": [],
   "source": [
    "#Use writeStream to write the streaming data to console\n",
    "\n",
    "streaming_df.writeStream.format(\"console\").outputMode(\"append\").option(\"checkpointLocation\",\"check_point_dir_kafka\").start().awaitTermination()"
   ]
  }
 ],
 "metadata": {
  "kernelspec": {
   "display_name": "Python 3 (ipykernel)",
   "language": "python",
   "name": "python3"
  },
  "language_info": {
   "codemirror_mode": {
    "name": "ipython",
    "version": 3
   },
   "file_extension": ".py",
   "mimetype": "text/x-python",
   "name": "python",
   "nbconvert_exporter": "python",
   "pygments_lexer": "ipython3",
   "version": "3.10.6"
  }
 },
 "nbformat": 4,
 "nbformat_minor": 5
}
