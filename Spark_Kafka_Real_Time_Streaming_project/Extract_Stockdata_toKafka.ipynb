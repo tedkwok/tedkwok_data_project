{
 "cells": [
  {
   "cell_type": "code",
   "execution_count": 49,
   "id": "4de25d6c-7b9a-4112-9c75-b3519eeb0f10",
   "metadata": {},
   "outputs": [],
   "source": [
    "#Package imported\n",
    "\n",
    "import time\n",
    "import pandas as pd\n",
    "import datetime\n",
    "import requests\n",
    "from requests.exceptions import ConnectionError\n",
    "from bs4 import BeautifulSoup\n",
    "from kafka import KafkaProducer\n",
    "from time import sleep\n",
    "from json import dumps\n",
    "import json"
   ]
  },
  {
   "cell_type": "code",
   "execution_count": 57,
   "id": "b8b806aa-5d3c-4bb5-aa1d-6192c469218a",
   "metadata": {
    "tags": []
   },
   "outputs": [],
   "source": [
    "#Function for extracting the required data in the fin-streamer section in the lxml\n",
    "\n",
    "def content (web_content, stock_index,data_field):\n",
    "    try:\n",
    "        if data_field == \"regularMarketVolume\":\n",
    "            texts=float((web_content.find_all('fin-streamer',{'data-symbol': \"AAPL\",\"data-field\":data_field})[0].text).replace(\",\",\"\"))\n",
    "        else:\n",
    "            texts=float((web_content.find_all('fin-streamer',{'data-symbol': \"AAPL\",\"data-field\":data_field})[0].text))\n",
    "    except IndexError:\n",
    "        texts = []\n",
    "\n",
    "    return texts\n",
    "\n",
    "\n",
    "\n",
    "\n",
    "#Funcion for extracting the information from the lxml in the yahoo finance.\n",
    "\n",
    "def real_time_stock_data(stock_code):\n",
    "    data_fields=[\"regularMarketPrice\",\"regularMarketVolume\",\"trailingPE\"]\n",
    "    texts=[]\n",
    "    url = 'https://finance.yahoo.com/quote/' +stock_code +'/'\n",
    "    try:\n",
    "        r = requests.get(url)\n",
    "        web_content = BeautifulSoup(r.text, 'lxml')\n",
    "        for data_field in data_fields:\n",
    "            texts.append(content(web_content, stock_code,data_field))\n",
    "        if texts != []:\n",
    "            result = texts\n",
    "        else:\n",
    "            result = []\n",
    "    except ConnectionError:\n",
    "         result = []\n",
    "\n",
    "    return result\n"
   ]
  },
  {
   "cell_type": "code",
   "execution_count": 53,
   "id": "f9b1b465-3500-4aec-8390-7b0293d64a85",
   "metadata": {},
   "outputs": [],
   "source": [
    "#Initialize the KafkaProdcuer\n",
    "\n",
    "producer =KafkaProducer(bootstrap_servers=['ed-kafka:29092'],\n",
    "                        api_version=(3,7,1), \n",
    "                        value_serializer=lambda v: json.dumps(v).encode('utf-8'))"
   ]
  },
  {
   "cell_type": "code",
   "execution_count": null,
   "id": "ee8d7141-82b5-40e5-9289-f0da2c74df58",
   "metadata": {},
   "outputs": [],
   "source": [
    "#webscraping the data and pass it to the kafka topic\n",
    "\n",
    "while True:\n",
    "    data= real_time_stock_data('AAPL')\n",
    "    producer.send('streaming', value={\"Price\":data[0],\"Vloume\":data[1],\"TrailingPE\":data[2]})\n",
    "    time.sleep(10)"
   ]
  }
 ],
 "metadata": {
  "kernelspec": {
   "display_name": "Python 3 (ipykernel)",
   "language": "python",
   "name": "python3"
  },
  "language_info": {
   "codemirror_mode": {
    "name": "ipython",
    "version": 3
   },
   "file_extension": ".py",
   "mimetype": "text/x-python",
   "name": "python",
   "nbconvert_exporter": "python",
   "pygments_lexer": "ipython3",
   "version": "3.10.6"
  }
 },
 "nbformat": 4,
 "nbformat_minor": 5
}
