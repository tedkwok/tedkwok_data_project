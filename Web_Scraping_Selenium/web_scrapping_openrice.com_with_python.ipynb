{
 "cells": [
  {
   "cell_type": "markdown",
   "id": "7da38ff7",
   "metadata": {},
   "source": [
    "Web scraping the restaurant information from the Open Rice.com using selenium\n",
    "\n",
    "Target: All restaurant information in Wong Tai Sin District (250 in Total)"
   ]
  },
  {
   "cell_type": "code",
   "execution_count": 14,
   "id": "20d9f337",
   "metadata": {},
   "outputs": [],
   "source": [
    "from selenium import webdriver\n",
    "from selenium.webdriver.common.by import By\n",
    "from selenium.webdriver.common.action_chains import ActionChains\n",
    "import pandas as pd\n",
    "from openpyxl import load_workbook"
   ]
  },
  {
   "cell_type": "code",
   "execution_count": 88,
   "id": "97a7e754",
   "metadata": {},
   "outputs": [],
   "source": [
    "driver = webdriver.Chrome()\n",
    "\n",
    "driver.get(\"https://www.openrice.com\")\n",
    "\n",
    "#direct to the target website openrice"
   ]
  },
  {
   "cell_type": "code",
   "execution_count": 89,
   "id": "4fabd79b",
   "metadata": {},
   "outputs": [],
   "source": [
    "clickable = driver.find_element(By.CLASS_NAME, \"quick-search-input-field\")\n",
    "ActionChains(driver)\\\n",
    "    .double_click(clickable)\\\n",
    "    .perform()\n",
    "driver.implicitly_wait(3)\n",
    "driver.find_element(By.CLASS_NAME,\"quick-search-input-field \").send_keys(\"Wong Tai Sin\")\n",
    "driver.implicitly_wait(3)  \n",
    "driver.find_element(By.CLASS_NAME, \"quick-search-button\").click()\n",
    "#direct to the page where contains restaurant information in Wong Tai Sin in the website "
   ]
  },
  {
   "cell_type": "code",
   "execution_count": 92,
   "id": "855edd0f",
   "metadata": {},
   "outputs": [],
   "source": [
    "num=0\n",
    "while num !=250:\n",
    "    ActionChains(driver)\\\n",
    "            .scroll_by_amount(0, 70)\\\n",
    "            .perform()\n",
    "    str_extracted=driver.find_element(By.CLASS_NAME, \"scrolling-toast\").text\n",
    "    num=int(str_extracted.split(\"/\")[0])\n",
    "    ActionChains(driver)\\\n",
    "            .scroll_by_amount(0, -50)\\\n",
    "            .perform()\n",
    "    driver.implicitly_wait(5)\n",
    "    \n",
    "#Since the page will not show all the information we want without scrolling to the buttom, \n",
    "#scrolling to the buttom of the page is a main point for all the information \n",
    "#desired will be shown in the html code.\n",
    "                                \n",
    "#Also, there is an element \"toast\" indicating the number of information have been scrolled\n",
    "# This information will be locked and cannot be got 5 second after the page is scrolled\n",
    "\n",
    "#scrolling up and down repeatedly is one of the way to reduce the chance of locked"
   ]
  },
  {
   "cell_type": "code",
   "execution_count": 93,
   "id": "8d764dc8",
   "metadata": {},
   "outputs": [],
   "source": [
    "res=[[1 for i in range(2)]for j in range(250)]\n",
    "for i in range(250):\n",
    "    num=i+1\n",
    "    go=driver.find_element(By.XPATH, \"//*[@id=\\\"layout\\\"]/main/div/div[2]/section[2]/div[2]/section/div/section/div/section[%s]\"%num).text\n",
    "    word=go.split(\"\\n\")\n",
    "    result=word[2:4]\n",
    "    res[i][0]=result[0]\n",
    "    res[i][1]=result[1]\n",
    "data=pd.DataFrame(res)\n",
    "data.to_csv(\"Restaurant_info_Wong_Tai_Sin.csv\", encoding = 'utf8', index = False)\n",
    "\n",
    "#extract information from each related element and write to a file"
   ]
  }
 ],
 "metadata": {
  "kernelspec": {
   "display_name": "Python 3 (ipykernel)",
   "language": "python",
   "name": "python3"
  },
  "language_info": {
   "codemirror_mode": {
    "name": "ipython",
    "version": 3
   },
   "file_extension": ".py",
   "mimetype": "text/x-python",
   "name": "python",
   "nbconvert_exporter": "python",
   "pygments_lexer": "ipython3",
   "version": "3.8.10"
  }
 },
 "nbformat": 4,
 "nbformat_minor": 5
}
