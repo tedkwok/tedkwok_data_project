{
 "cells": [
  {
   "cell_type": "markdown",
   "id": "36d6fc7b",
   "metadata": {},
   "source": [
    "Package used"
   ]
  },
  {
   "cell_type": "code",
   "execution_count": 192,
   "id": "27deeac0",
   "metadata": {},
   "outputs": [],
   "source": [
    "import pandas as pd\n",
    "import statistics\n",
    "from sklearn import tree\n",
    "from sklearn.ensemble import RandomForestClassifier\n",
    "from sklearn.model_selection import train_test_split\n",
    "from sklearn.preprocessing import LabelEncoder\n",
    "from sklearn.linear_model import LogisticRegression\n",
    "from sklearn.metrics import accuracy_score, confusion_matrix\n",
    "import matplotlib.pyplot as plt"
   ]
  },
  {
   "cell_type": "markdown",
   "id": "31d8c727",
   "metadata": {},
   "source": [
    "read the dataset and data summary"
   ]
  },
  {
   "cell_type": "code",
   "execution_count": 24,
   "id": "47d6f67b",
   "metadata": {},
   "outputs": [],
   "source": [
    "data=pd.read_csv(\"online_payment.csv\")"
   ]
  },
  {
   "cell_type": "code",
   "execution_count": 25,
   "id": "a704c4be",
   "metadata": {},
   "outputs": [
    {
     "name": "stdout",
     "output_type": "stream",
     "text": [
      "(6362620, 10)\n"
     ]
    }
   ],
   "source": [
    "data.drop(columns=data.columns[10], axis=1, inplace=True)\n",
    "print(data.shape)\n",
    "\n",
    "# There are 6362620 of data with 10 variable"
   ]
  },
  {
   "cell_type": "code",
   "execution_count": 26,
   "id": "1f5f4b08",
   "metadata": {},
   "outputs": [
    {
     "data": {
      "text/html": [
       "<div>\n",
       "<style scoped>\n",
       "    .dataframe tbody tr th:only-of-type {\n",
       "        vertical-align: middle;\n",
       "    }\n",
       "\n",
       "    .dataframe tbody tr th {\n",
       "        vertical-align: top;\n",
       "    }\n",
       "\n",
       "    .dataframe thead th {\n",
       "        text-align: right;\n",
       "    }\n",
       "</style>\n",
       "<table border=\"1\" class=\"dataframe\">\n",
       "  <thead>\n",
       "    <tr style=\"text-align: right;\">\n",
       "      <th></th>\n",
       "      <th>step</th>\n",
       "      <th>type</th>\n",
       "      <th>amount</th>\n",
       "      <th>nameOrig</th>\n",
       "      <th>oldbalanceOrg</th>\n",
       "      <th>newbalanceOrig</th>\n",
       "      <th>nameDest</th>\n",
       "      <th>oldbalanceDest</th>\n",
       "      <th>newbalanceDest</th>\n",
       "      <th>isFraud</th>\n",
       "    </tr>\n",
       "  </thead>\n",
       "  <tbody>\n",
       "    <tr>\n",
       "      <th>0</th>\n",
       "      <td>1</td>\n",
       "      <td>PAYMENT</td>\n",
       "      <td>9839.64</td>\n",
       "      <td>C1231006815</td>\n",
       "      <td>170136.0</td>\n",
       "      <td>160296.36</td>\n",
       "      <td>M1979787155</td>\n",
       "      <td>0.0</td>\n",
       "      <td>0.0</td>\n",
       "      <td>0</td>\n",
       "    </tr>\n",
       "    <tr>\n",
       "      <th>1</th>\n",
       "      <td>1</td>\n",
       "      <td>PAYMENT</td>\n",
       "      <td>1864.28</td>\n",
       "      <td>C1666544295</td>\n",
       "      <td>21249.0</td>\n",
       "      <td>19384.72</td>\n",
       "      <td>M2044282225</td>\n",
       "      <td>0.0</td>\n",
       "      <td>0.0</td>\n",
       "      <td>0</td>\n",
       "    </tr>\n",
       "    <tr>\n",
       "      <th>2</th>\n",
       "      <td>1</td>\n",
       "      <td>TRANSFER</td>\n",
       "      <td>181.00</td>\n",
       "      <td>C1305486145</td>\n",
       "      <td>181.0</td>\n",
       "      <td>0.00</td>\n",
       "      <td>C553264065</td>\n",
       "      <td>0.0</td>\n",
       "      <td>0.0</td>\n",
       "      <td>1</td>\n",
       "    </tr>\n",
       "    <tr>\n",
       "      <th>3</th>\n",
       "      <td>1</td>\n",
       "      <td>CASH_OUT</td>\n",
       "      <td>181.00</td>\n",
       "      <td>C840083671</td>\n",
       "      <td>181.0</td>\n",
       "      <td>0.00</td>\n",
       "      <td>C38997010</td>\n",
       "      <td>21182.0</td>\n",
       "      <td>0.0</td>\n",
       "      <td>1</td>\n",
       "    </tr>\n",
       "    <tr>\n",
       "      <th>4</th>\n",
       "      <td>1</td>\n",
       "      <td>PAYMENT</td>\n",
       "      <td>11668.14</td>\n",
       "      <td>C2048537720</td>\n",
       "      <td>41554.0</td>\n",
       "      <td>29885.86</td>\n",
       "      <td>M1230701703</td>\n",
       "      <td>0.0</td>\n",
       "      <td>0.0</td>\n",
       "      <td>0</td>\n",
       "    </tr>\n",
       "  </tbody>\n",
       "</table>\n",
       "</div>"
      ],
      "text/plain": [
       "   step      type    amount     nameOrig  oldbalanceOrg  newbalanceOrig  \\\n",
       "0     1   PAYMENT   9839.64  C1231006815       170136.0       160296.36   \n",
       "1     1   PAYMENT   1864.28  C1666544295        21249.0        19384.72   \n",
       "2     1  TRANSFER    181.00  C1305486145          181.0            0.00   \n",
       "3     1  CASH_OUT    181.00   C840083671          181.0            0.00   \n",
       "4     1   PAYMENT  11668.14  C2048537720        41554.0        29885.86   \n",
       "\n",
       "      nameDest  oldbalanceDest  newbalanceDest  isFraud  \n",
       "0  M1979787155             0.0             0.0        0  \n",
       "1  M2044282225             0.0             0.0        0  \n",
       "2   C553264065             0.0             0.0        1  \n",
       "3    C38997010         21182.0             0.0        1  \n",
       "4  M1230701703             0.0             0.0        0  "
      ]
     },
     "execution_count": 26,
     "metadata": {},
     "output_type": "execute_result"
    }
   ],
   "source": [
    "data.head()"
   ]
  },
  {
   "cell_type": "markdown",
   "id": "77ea65f3",
   "metadata": {},
   "source": [
    "Exploratory Data analysis And Data Cleansing"
   ]
  },
  {
   "cell_type": "markdown",
   "id": "fa0c2697",
   "metadata": {},
   "source": [
    "Check whether there is any missing value"
   ]
  },
  {
   "cell_type": "code",
   "execution_count": 85,
   "id": "1e772535",
   "metadata": {},
   "outputs": [
    {
     "name": "stdout",
     "output_type": "stream",
     "text": [
      "The number of missing value in 1 column is 0\n",
      "The number of missing value in 2 column is 0\n",
      "The number of missing value in 3 column is 0\n",
      "The number of missing value in 4 column is 0\n",
      "The number of missing value in 5 column is 0\n",
      "The number of missing value in 6 column is 0\n",
      "The number of missing value in 7 column is 0\n",
      "The number of missing value in 8 column is 0\n",
      "The number of missing value in 9 column is 0\n",
      "The number of missing value in 10 column is 0\n"
     ]
    }
   ],
   "source": [
    "for i in range(data.shape[1]):\n",
    "    print(\"The number of missing value in % s column is % s\" % ((i+1),sum(data.iloc[:,0].isna())))"
   ]
  },
  {
   "cell_type": "markdown",
   "id": "ebc03bab",
   "metadata": {},
   "source": [
    "There are no missing value in the dataset"
   ]
  },
  {
   "cell_type": "markdown",
   "id": "8376e06f",
   "metadata": {},
   "source": [
    "Check the number of unique value in each categorical variable"
   ]
  },
  {
   "cell_type": "code",
   "execution_count": 75,
   "id": "9e3fd826",
   "metadata": {},
   "outputs": [
    {
     "name": "stdout",
     "output_type": "stream",
     "text": [
      "the number of unique value for the type column is 5\n",
      "the number of unique value for the nameOrig column is 6353307\n",
      "the number of unique value for the nameDest column is 2722362\n"
     ]
    }
   ],
   "source": [
    "for i in list([\"type\", \"nameOrig\", \"nameDest\"]):\n",
    "    print(\"the number of unique value for the % s column is % s\"%(i,pd.unique(data.loc[:,i]).size))"
   ]
  },
  {
   "cell_type": "markdown",
   "id": "69048fa4",
   "metadata": {},
   "source": [
    "List the type of the payment"
   ]
  },
  {
   "cell_type": "code",
   "execution_count": 78,
   "id": "23f65c89",
   "metadata": {},
   "outputs": [
    {
     "data": {
      "text/plain": [
       "array(['PAYMENT', 'TRANSFER', 'CASH_OUT', 'DEBIT', 'CASH_IN'],\n",
       "      dtype=object)"
      ]
     },
     "execution_count": 78,
     "metadata": {},
     "output_type": "execute_result"
    }
   ],
   "source": [
    "pd.unique(data.loc[:,\"type\"])"
   ]
  },
  {
   "cell_type": "markdown",
   "id": "7e030656",
   "metadata": {},
   "source": [
    "Plot the histogram of the numeric variable"
   ]
  },
  {
   "cell_type": "code",
   "execution_count": 91,
   "id": "a755521e",
   "metadata": {},
   "outputs": [
    {
     "data": {
      "image/png": "[encoded data removed]",
      "text/plain": [
       "<Figure size 432x288 with 1 Axes>"
      ]
     },
     "metadata": {
      "needs_background": "light"
     },
     "output_type": "display_data"
    },
    {
     "data": {
      "image/png": "[encoded data removed]",
      "text/plain": [
       "<Figure size 432x288 with 1 Axes>"
      ]
     },
     "metadata": {
      "needs_background": "light"
     },
     "output_type": "display_data"
    },
    {
     "data": {
      "image/png": "[encoded data removed]",
      "text/plain": [
       "<Figure size 432x288 with 1 Axes>"
      ]
     },
     "metadata": {
      "needs_background": "light"
     },
     "output_type": "display_data"
    },
    {
     "data": {
      "image/png": "[encoded data removed]",
      "text/plain": [
       "<Figure size 432x288 with 1 Axes>"
      ]
     },
     "metadata": {
      "needs_background": "light"
     },
     "output_type": "display_data"
    },
    {
     "data": {
      "image/png": "[encoded data removed]",
      "text/plain": [
       "<Figure size 432x288 with 1 Axes>"
      ]
     },
     "metadata": {
      "needs_background": "light"
     },
     "output_type": "display_data"
    },
    {
     "data": {
      "image/png": "[encoded data removed]",
      "text/plain": [
       "<Figure size 432x288 with 1 Axes>"
      ]
     },
     "metadata": {
      "needs_background": "light"
     },
     "output_type": "display_data"
    }
   ],
   "source": [
    "for i in list([\"step\",\"amount\", \"oldbalanceOrg\", \"newbalanceOrig\",\"oldbalanceDest\",\"newbalanceDest\"]):\n",
    "    plt.hist(data.loc[:,i])\n",
    "    plt.title(i)\n",
    "    plt.ylabel('quantity')\n",
    "    plt.xlabel('value')\n",
    "    plt.show() \n",
    "#Except the step distribution, others are right skewed"
   ]
  },
  {
   "cell_type": "markdown",
   "id": "4989389e",
   "metadata": {},
   "source": [
    "Summary Statistic of each of the numerical variable"
   ]
  },
  {
   "cell_type": "code",
   "execution_count": 100,
   "id": "6feb53bf",
   "metadata": {},
   "outputs": [
    {
     "name": "stdout",
     "output_type": "stream",
     "text": [
      "count    6.362620e+06\n",
      "mean     2.433972e+02\n",
      "std      1.423320e+02\n",
      "min      1.000000e+00\n",
      "25%      1.560000e+02\n",
      "50%      2.390000e+02\n",
      "75%      3.350000e+02\n",
      "max      7.430000e+02\n",
      "Name: step, dtype: float64\n",
      "\n",
      "count    6.362620e+06\n",
      "mean     1.798619e+05\n",
      "std      6.038582e+05\n",
      "min      0.000000e+00\n",
      "25%      1.338957e+04\n",
      "50%      7.487194e+04\n",
      "75%      2.087215e+05\n",
      "max      9.244552e+07\n",
      "Name: amount, dtype: float64\n",
      "\n",
      "count    6.362620e+06\n",
      "mean     8.338831e+05\n",
      "std      2.888243e+06\n",
      "min      0.000000e+00\n",
      "25%      0.000000e+00\n",
      "50%      1.420800e+04\n",
      "75%      1.073152e+05\n",
      "max      5.958504e+07\n",
      "Name: oldbalanceOrg, dtype: float64\n",
      "\n",
      "count    6.362620e+06\n",
      "mean     8.551137e+05\n",
      "std      2.924049e+06\n",
      "min      0.000000e+00\n",
      "25%      0.000000e+00\n",
      "50%      0.000000e+00\n",
      "75%      1.442584e+05\n",
      "max      4.958504e+07\n",
      "Name: newbalanceOrig, dtype: float64\n",
      "\n",
      "count    6.362620e+06\n",
      "mean     1.100702e+06\n",
      "std      3.399180e+06\n",
      "min      0.000000e+00\n",
      "25%      0.000000e+00\n",
      "50%      1.327057e+05\n",
      "75%      9.430367e+05\n",
      "max      3.560159e+08\n",
      "Name: oldbalanceDest, dtype: float64\n",
      "\n",
      "count    6.362620e+06\n",
      "mean     1.224996e+06\n",
      "std      3.674129e+06\n",
      "min      0.000000e+00\n",
      "25%      0.000000e+00\n",
      "50%      2.146614e+05\n",
      "75%      1.111909e+06\n",
      "max      3.561793e+08\n",
      "Name: newbalanceDest, dtype: float64\n",
      "\n"
     ]
    }
   ],
   "source": [
    "for i in list([\"step\",\"amount\", \"oldbalanceOrg\", \"newbalanceOrig\",\"oldbalanceDest\",\"newbalanceDest\"]):\n",
    "    print(data.loc[:,i].describe())\n",
    "    print()"
   ]
  },
  {
   "cell_type": "markdown",
   "id": "c24c7a04",
   "metadata": {},
   "source": [
    "Training the Fraud Detection Model"
   ]
  },
  {
   "cell_type": "markdown",
   "id": "e073ce9b",
   "metadata": {},
   "source": [
    "Split the training data and testing data"
   ]
  },
  {
   "cell_type": "code",
   "execution_count": 122,
   "id": "4079a742",
   "metadata": {},
   "outputs": [],
   "source": [
    "X=data.iloc[:,0:9]\n",
    "y=data.iloc[:,9]\n",
    "#perform Label encoding for the catergorical variable\n",
    "label_encoder = LabelEncoder()\n",
    "for i in list([\"type\", \"nameOrig\", \"nameDest\"]):\n",
    "    X.loc[:,i]=label_encoder.fit_transform(X.loc[:,i])\n",
    "\n",
    "X_train, X_test, y_train, y_test = train_test_split(X, y, test_size=0.2, random_state=42)\n",
    "\n",
    "#choose 80% of the data as training data, 20% of the data as testing data"
   ]
  },
  {
   "cell_type": "markdown",
   "id": "c5e2ac34",
   "metadata": {},
   "source": [
    "Decision Tree Model"
   ]
  },
  {
   "cell_type": "code",
   "execution_count": 201,
   "id": "e0c2805c",
   "metadata": {},
   "outputs": [],
   "source": [
    "clf = tree.DecisionTreeClassifier()\n",
    "clf = clf.fit(X_train, y_train)\n",
    "#fit the model"
   ]
  },
  {
   "cell_type": "code",
   "execution_count": 202,
   "id": "7490065c",
   "metadata": {},
   "outputs": [],
   "source": [
    "test_pred=clf.predict(X_test)\n",
    "#test the model"
   ]
  },
  {
   "cell_type": "code",
   "execution_count": 203,
   "id": "b031ada9",
   "metadata": {},
   "outputs": [
    {
     "data": {
      "text/plain": [
       "0.9996958799991199"
      ]
     },
     "execution_count": 203,
     "metadata": {},
     "output_type": "execute_result"
    }
   ],
   "source": [
    "accuracy_score(y_test, test_pred)\n",
    "#the accuracy of classiflying whether the payment is fraud is about 99.97%"
   ]
  },
  {
   "cell_type": "code",
   "execution_count": 204,
   "id": "ea7e8a35",
   "metadata": {},
   "outputs": [
    {
     "name": "stdout",
     "output_type": "stream",
     "text": [
      "     0         1\n",
      "0    1270733  171\n",
      "1    216      1404\n"
     ]
    }
   ],
   "source": [
    "con=confusion_matrix(y_test, test_pred)\n",
    "print(\"     0         1\")\n",
    "print(\"0    %s  %s\"%(con[0,0],con[0,1]))\n",
    "print(\"1    %s      %s\"% (con[1,0],con[1,1]))\n",
    "# The confusion matrix\n",
    "# 1 represent the payment is fraud while 0 represents the payment is not fraud\n",
    "\n",
    "\n",
    "# Since the fraud payment is an extreme incident, \n",
    "# analyzing the result in accuracy is not a good choice\n",
    "\n",
    "# In the fraud case, the model can detect 1404 cases in total 1620 fraud cases\n",
    "# The true positive rate is 1405/1620= 86.7%"
   ]
  },
  {
   "cell_type": "markdown",
   "id": "91722763",
   "metadata": {},
   "source": [
    "Random Forest Model"
   ]
  },
  {
   "cell_type": "code",
   "execution_count": 187,
   "id": "9697cc68",
   "metadata": {},
   "outputs": [],
   "source": [
    "clf_2 = RandomForestClassifier(n_estimators=5, random_state=0)\n",
    "clf_2.fit(X_train, y_train)\n",
    "test_pred=clf_2.predict(X_test)\n",
    "\n",
    "#fit the model with training data"
   ]
  },
  {
   "cell_type": "code",
   "execution_count": 188,
   "id": "b7f980f8",
   "metadata": {},
   "outputs": [
    {
     "data": {
      "text/plain": [
       "0.9997092392756443"
      ]
     },
     "execution_count": 188,
     "metadata": {},
     "output_type": "execute_result"
    }
   ],
   "source": [
    "accuracy_score(y_test, test_pred)"
   ]
  },
  {
   "cell_type": "code",
   "execution_count": 189,
   "id": "7e35b4d3",
   "metadata": {},
   "outputs": [
    {
     "name": "stdout",
     "output_type": "stream",
     "text": [
      "     0         1\n",
      "0    1270860  44\n",
      "1    326      1294\n"
     ]
    }
   ],
   "source": [
    "con=confusion_matrix(y_test, test_pred)\n",
    "print(\"     0         1\")\n",
    "print(\"0    %s  %s\"%(con[0,0],con[0,1]))\n",
    "print(\"1    %s      %s\"% (con[1,0],con[1,1]))\n",
    "# The confusion matrix\n",
    "# 1 represent the payment is fraud while 0 represents the payment is not fraud\n",
    "\n",
    "\n",
    "#Since the fraud payment is an extreme incident, \n",
    "# analyzing the result in accuracy is not a good choice\n",
    "\n",
    "# In the fraud case, the model can detect 1294 cases in total 1620 fraud cases\n",
    "# The false negative rate is 1294/1620= 79.87%"
   ]
  },
  {
   "cell_type": "markdown",
   "id": "4bfa84a4",
   "metadata": {},
   "source": [
    "Logistic regression"
   ]
  },
  {
   "cell_type": "code",
   "execution_count": 193,
   "id": "c5973212",
   "metadata": {},
   "outputs": [
    {
     "data": {
      "text/plain": [
       "LogisticRegression()"
      ]
     },
     "execution_count": 193,
     "metadata": {},
     "output_type": "execute_result"
    }
   ],
   "source": [
    "model = LogisticRegression() \n",
    "model.fit(X_train, y_train)"
   ]
  },
  {
   "cell_type": "code",
   "execution_count": 195,
   "id": "840ae152",
   "metadata": {},
   "outputs": [],
   "source": [
    "test_pred=model.predict(X_test)"
   ]
  },
  {
   "cell_type": "code",
   "execution_count": 196,
   "id": "45090f71",
   "metadata": {},
   "outputs": [
    {
     "data": {
      "text/plain": [
       "0.999120645268773"
      ]
     },
     "execution_count": 196,
     "metadata": {},
     "output_type": "execute_result"
    }
   ],
   "source": [
    "accuracy_score(y_test, test_pred)"
   ]
  },
  {
   "cell_type": "code",
   "execution_count": 197,
   "id": "34eccf5f",
   "metadata": {},
   "outputs": [
    {
     "name": "stdout",
     "output_type": "stream",
     "text": [
      "     0         1\n",
      "0    1270709  195\n",
      "1    924      696\n"
     ]
    }
   ],
   "source": [
    "con=confusion_matrix(y_test, test_pred)\n",
    "print(\"     0         1\")\n",
    "print(\"0    %s  %s\"%(con[0,0],con[0,1]))\n",
    "print(\"1    %s      %s\"% (con[1,0],con[1,1]))\n",
    "\n",
    "# The confusion matrix\n",
    "# 1 represent the payment is fraud while 0 represents the payment is not fraud\n",
    "\n",
    "#Since the fraud payment is an extreme incident, \n",
    "#analyzing the result in accuracy is not a good choice\n",
    "\n",
    "# In the fraud case, the model can detect 696 cases in total 1620 fraud cases\n",
    "# The true positive rate is 696/1620= 42.96%"
   ]
  },
  {
   "cell_type": "markdown",
   "id": "41c78166",
   "metadata": {},
   "source": [
    "Conclusion:\n",
    "Three models perform similar in terms of the accuracy. \n",
    "\n",
    "However, in terms of true positive rate., decision tree model performs the best among the three models.\n",
    "\n",
    "Choosing decision tree as the fraud online payment detection model is the best choice."
   ]
  }
 ],
 "metadata": {
  "kernelspec": {
   "display_name": "Python 3 (ipykernel)",
   "language": "python",
   "name": "python3"
  },
  "language_info": {
   "codemirror_mode": {
    "name": "ipython",
    "version": 3
   },
   "file_extension": ".py",
   "mimetype": "text/x-python",
   "name": "python",
   "nbconvert_exporter": "python",
   "pygments_lexer": "ipython3",
   "version": "3.8.10"
  }
 },
 "nbformat": 4,
 "nbformat_minor": 5
}
