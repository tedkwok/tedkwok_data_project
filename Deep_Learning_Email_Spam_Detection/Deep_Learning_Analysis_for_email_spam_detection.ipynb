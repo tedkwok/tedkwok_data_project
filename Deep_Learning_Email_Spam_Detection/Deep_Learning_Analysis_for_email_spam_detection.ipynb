{
 "cells": [
  {
   "cell_type": "code",
   "execution_count": 32,
   "id": "84bc88c0",
   "metadata": {},
   "outputs": [],
   "source": [
    "import pandas as pd\n",
    "import numpy as np\n",
    "from sklearn.model_selection import train_test_split\n",
    "from sklearn import tree\n",
    "from sklearn.metrics import accuracy_score\n",
    "from sklearn.metrics import confusion_matrix\n",
    "import random\n",
    "import matplotlib.pyplot as plt\n",
    "import matplotlib\n",
    "import tensorflow as tf\n",
    " \n",
    "from tensorflow.keras import layers\n",
    "from tensorflow.keras import Sequential\n",
    "from tensorflow.keras.layers import Dense, Dropout\n",
    "from tensorflow.keras.utils import to_categorical\n",
    " \n",
    "from matplotlib.ticker import (MultipleLocator, FormatStrFormatter)\n",
    " "
   ]
  },
  {
   "cell_type": "code",
   "execution_count": 2,
   "id": "d9b45876",
   "metadata": {},
   "outputs": [],
   "source": [
    "data = pd.read_csv(\"emails.csv\")"
   ]
  },
  {
   "cell_type": "markdown",
   "id": "8a14c72c",
   "metadata": {},
   "source": [
    "Check whether there is any missing value"
   ]
  },
  {
   "cell_type": "code",
   "execution_count": 48,
   "id": "35027cf3",
   "metadata": {},
   "outputs": [
    {
     "name": "stdout",
     "output_type": "stream",
     "text": [
      "0\n"
     ]
    }
   ],
   "source": [
    "column_with_na=list()\n",
    "\n",
    "for i in range(data.shape[1]):\n",
    "    if sum(data.iloc[:,i].isna()) >0:\n",
    "       column_with_na.append(i)\n",
    "    \n",
    "print(len(column_with_na))"
   ]
  },
  {
   "cell_type": "markdown",
   "id": "c8aaa865",
   "metadata": {},
   "source": [
    "Check whether there is column with all zero entry"
   ]
  },
  {
   "cell_type": "code",
   "execution_count": 37,
   "id": "ada83ce6",
   "metadata": {},
   "outputs": [
    {
     "name": "stdout",
     "output_type": "stream",
     "text": [
      "no case raised\n"
     ]
    }
   ],
   "source": [
    "raised=0\n",
    "\n",
    "for i in range(data.shape[1]):\n",
    "    if isinstance(data.iloc[1,i],(int,np.integer))== True:\n",
    "        if sum(data.iloc[:,i])==0:\n",
    "            print(i)\n",
    "            raised=1\n",
    "            \n",
    "if raised==0:\n",
    "    print(\"no case raised\")"
   ]
  },
  {
   "cell_type": "markdown",
   "id": "e02cb7a6",
   "metadata": {},
   "source": [
    "Build the spam email detection system using one deep learning method and one machine learning method and do the comparison and draw conclusion.\n",
    "\n",
    "MLP vs Decision Tree"
   ]
  },
  {
   "cell_type": "markdown",
   "id": "8fa8f1aa",
   "metadata": {},
   "source": [
    "Multi Layer Perceptron"
   ]
  },
  {
   "cell_type": "code",
   "execution_count": 94,
   "id": "f8ac2300",
   "metadata": {},
   "outputs": [],
   "source": [
    "X=data.iloc[:,1:(data.shape[1]-1)]\n",
    "y=data.loc[:,\"Prediction\"]\n",
    "#data_ts=tf.convert_to_tensor(data)\n",
    "X_second, X_test, y_second, y_test = train_test_split(\n",
    "    X, y, test_size=0.2, random_state=0)\n",
    "\n",
    "\n",
    "X_train, X_valid, y_train, y_valid = train_test_split(\n",
    "     X_second, y_second, test_size=0.3, random_state=0)\n",
    "\n"
   ]
  },
  {
   "cell_type": "code",
   "execution_count": 95,
   "id": "4eed24ad",
   "metadata": {},
   "outputs": [],
   "source": [
    "X_train=X_train.to_numpy()\n",
    "y_train=y_train.to_numpy()\n",
    "X_valid=X_valid.to_numpy()\n",
    "y_valid=y_valid.to_numpy()\n",
    "X_test=X_test.to_numpy()\n",
    "y_test=y_test.to_numpy()\n"
   ]
  },
  {
   "cell_type": "code",
   "execution_count": 125,
   "id": "82f79b98",
   "metadata": {},
   "outputs": [],
   "source": [
    "model = tf.keras.Sequential()\n",
    " \n",
    "#Define the model.\n",
    "model.add(Dense(128, activation='relu', input_shape=(X_train.shape[1],)))\n",
    "model.add(Dense(128, activation='relu'))\n",
    "model.add(Dense(1,  activation=\"sigmoid\"))\n",
    "\n"
   ]
  },
  {
   "cell_type": "code",
   "execution_count": 126,
   "id": "1ef87c24",
   "metadata": {},
   "outputs": [],
   "source": [
    "model.compile(optimizer=\"adam\",\n",
    "              loss=\"categorical_crossentropy\",\n",
    "              metrics=[\"accuracy\"])\n"
   ]
  },
  {
   "cell_type": "markdown",
   "id": "f7d1dfe2",
   "metadata": {},
   "source": [
    "The structure of this MLP model is shown below:\n",
    "\n",
    "The input layer (3000 node)\n",
    "\n",
    "1st hidden layer (128 neutrons) \n",
    "\n",
    "2nd hidden layer (128 neutrons) \n",
    "\n",
    "output layer (1 node) "
   ]
  },
  {
   "cell_type": "code",
   "execution_count": 127,
   "id": "f8516d96",
   "metadata": {},
   "outputs": [
    {
     "name": "stdout",
     "output_type": "stream",
     "text": [
      "Epoch 1/20\n",
      "46/46 [==============================] - 1s 8ms/step - loss: 0.0000e+00 - accuracy: 0.6950 - val_loss: 0.0000e+00 - val_accuracy: 0.7126\n",
      "Epoch 2/20\n",
      "46/46 [==============================] - 0s 5ms/step - loss: 0.0000e+00 - accuracy: 0.7036 - val_loss: 0.0000e+00 - val_accuracy: 0.7126\n",
      "Epoch 3/20\n",
      "46/46 [==============================] - 0s 6ms/step - loss: 0.0000e+00 - accuracy: 0.7036 - val_loss: 0.0000e+00 - val_accuracy: 0.7126\n",
      "Epoch 4/20\n",
      "46/46 [==============================] - 0s 5ms/step - loss: 0.0000e+00 - accuracy: 0.7036 - val_loss: 0.0000e+00 - val_accuracy: 0.7126\n",
      "Epoch 5/20\n",
      "46/46 [==============================] - 0s 4ms/step - loss: 0.0000e+00 - accuracy: 0.7036 - val_loss: 0.0000e+00 - val_accuracy: 0.7126\n",
      "Epoch 6/20\n",
      "46/46 [==============================] - 0s 5ms/step - loss: 0.0000e+00 - accuracy: 0.7036 - val_loss: 0.0000e+00 - val_accuracy: 0.7126\n",
      "Epoch 7/20\n",
      "46/46 [==============================] - 0s 5ms/step - loss: 0.0000e+00 - accuracy: 0.7036 - val_loss: 0.0000e+00 - val_accuracy: 0.7126\n",
      "Epoch 8/20\n",
      "46/46 [==============================] - 0s 5ms/step - loss: 0.0000e+00 - accuracy: 0.7036 - val_loss: 0.0000e+00 - val_accuracy: 0.7126\n",
      "Epoch 9/20\n",
      "46/46 [==============================] - 0s 5ms/step - loss: 0.0000e+00 - accuracy: 0.7036 - val_loss: 0.0000e+00 - val_accuracy: 0.7126\n",
      "Epoch 10/20\n",
      "46/46 [==============================] - 0s 5ms/step - loss: 0.0000e+00 - accuracy: 0.7036 - val_loss: 0.0000e+00 - val_accuracy: 0.7126\n",
      "Epoch 11/20\n",
      "46/46 [==============================] - 0s 5ms/step - loss: 0.0000e+00 - accuracy: 0.7036 - val_loss: 0.0000e+00 - val_accuracy: 0.7126\n",
      "Epoch 12/20\n",
      "46/46 [==============================] - 0s 4ms/step - loss: 0.0000e+00 - accuracy: 0.7036 - val_loss: 0.0000e+00 - val_accuracy: 0.7126\n",
      "Epoch 13/20\n",
      "46/46 [==============================] - 0s 5ms/step - loss: 0.0000e+00 - accuracy: 0.7036 - val_loss: 0.0000e+00 - val_accuracy: 0.7126\n",
      "Epoch 14/20\n",
      "46/46 [==============================] - 0s 5ms/step - loss: 0.0000e+00 - accuracy: 0.7036 - val_loss: 0.0000e+00 - val_accuracy: 0.7126\n",
      "Epoch 15/20\n",
      "46/46 [==============================] - 0s 5ms/step - loss: 0.0000e+00 - accuracy: 0.7036 - val_loss: 0.0000e+00 - val_accuracy: 0.7126\n",
      "Epoch 16/20\n",
      "46/46 [==============================] - 0s 6ms/step - loss: 0.0000e+00 - accuracy: 0.7036 - val_loss: 0.0000e+00 - val_accuracy: 0.7126\n",
      "Epoch 17/20\n",
      "46/46 [==============================] - 0s 5ms/step - loss: 0.0000e+00 - accuracy: 0.7036 - val_loss: 0.0000e+00 - val_accuracy: 0.7126\n",
      "Epoch 18/20\n",
      "46/46 [==============================] - 0s 5ms/step - loss: 0.0000e+00 - accuracy: 0.7036 - val_loss: 0.0000e+00 - val_accuracy: 0.7126\n",
      "Epoch 19/20\n",
      "46/46 [==============================] - 0s 4ms/step - loss: 0.0000e+00 - accuracy: 0.7036 - val_loss: 0.0000e+00 - val_accuracy: 0.7126\n",
      "Epoch 20/20\n",
      "46/46 [==============================] - 0s 5ms/step - loss: 0.0000e+00 - accuracy: 0.7036 - val_loss: 0.0000e+00 - val_accuracy: 0.7126\n"
     ]
    }
   ],
   "source": [
    "training_results = model.fit(X_train, \n",
    "                             y_train, \n",
    "                             epochs=20, \n",
    "                             batch_size=64, \n",
    "                             validation_data=(X_valid, y_valid))\n"
   ]
  },
  {
   "cell_type": "code",
   "execution_count": 128,
   "id": "da051aac",
   "metadata": {},
   "outputs": [
    {
     "data": {
      "text/plain": [
       "0.7246376811594203"
      ]
     },
     "execution_count": 128,
     "metadata": {},
     "output_type": "execute_result"
    }
   ],
   "source": [
    "ts_pred=model.predict(X_test)\n",
    "accuracy_score(y_test, ts_pred)\n",
    "\n",
    "#the accuracy is about 72.5%"
   ]
  },
  {
   "cell_type": "markdown",
   "id": "9c570e0f",
   "metadata": {},
   "source": [
    "Decision Tree"
   ]
  },
  {
   "cell_type": "code",
   "execution_count": null,
   "id": "8a03f6d1",
   "metadata": {},
   "outputs": [],
   "source": [
    "X=data.iloc[:,1:(data.shape[1]-1)]\n",
    "y=data.loc[:,\"Prediction\"]\n",
    "\n",
    "X_train, X_test, y_train, y_test = train_test_split(\n",
    "    X, y, test_size=0.2, random_state=0)\n",
    "\n",
    "#Data splitting"
   ]
  },
  {
   "cell_type": "code",
   "execution_count": 10,
   "id": "5a987e6f",
   "metadata": {},
   "outputs": [],
   "source": [
    "clf = tree.DecisionTreeClassifier(max_depth=1)\n",
    "clf = clf.fit(X_train, y_train)"
   ]
  },
  {
   "cell_type": "code",
   "execution_count": 11,
   "id": "adcf6613",
   "metadata": {},
   "outputs": [
    {
     "data": {
      "text/plain": [
       "0.7246376811594203"
      ]
     },
     "execution_count": 11,
     "metadata": {},
     "output_type": "execute_result"
    }
   ],
   "source": [
    "y_pred=clf.predict(X_test)\n",
    "accuracy_score(y_test, y_pred)\n",
    "\n",
    "#the accuracy is about 72.5%"
   ]
  },
  {
   "cell_type": "code",
   "execution_count": 12,
   "id": "8b9c7f9f",
   "metadata": {},
   "outputs": [
    {
     "data": {
      "text/plain": [
       "[Text(0.5, 0.75, 'X[13] <= 0.5\\ngini = 0.415\\nsamples = 4137\\nvalue = [2922, 1215]'),\n",
       " Text(0.25, 0.25, 'gini = 0.484\\nsamples = 2954\\nvalue = [1739, 1215]'),\n",
       " Text(0.75, 0.25, 'gini = 0.0\\nsamples = 1183\\nvalue = [1183, 0]')]"
      ]
     },
     "execution_count": 12,
     "metadata": {},
     "output_type": "execute_result"
    },
    {
     "data": {
      "image/png": "[encoded data removed]",
      "text/plain": [
       "<Figure size 640x480 with 1 Axes>"
      ]
     },
     "metadata": {},
     "output_type": "display_data"
    }
   ],
   "source": [
    "tree.plot_tree(clf)\n",
    "\n",
    "#plot the tree diagram"
   ]
  },
  {
   "cell_type": "markdown",
   "id": "f9b40534",
   "metadata": {},
   "source": [
    "Conclusion drawn"
   ]
  },
  {
   "cell_type": "code",
   "execution_count": 13,
   "id": "160eff49",
   "metadata": {
    "scrolled": true
   },
   "outputs": [
    {
     "name": "stdout",
     "output_type": "stream",
     "text": [
      "the Column name of 13 th column is enron\n"
     ]
    }
   ],
   "source": [
    "print(\"the Column name of 13 th column is %s\"%(X_train.iloc[:,13].name))\n"
   ]
  },
  {
   "cell_type": "markdown",
   "id": "eaf87054",
   "metadata": {},
   "source": [
    "if the email does contain \"enron\", then this is a span email.\n",
    "\n",
    "One of the conclusion drawn is that a company named enron may be used to do the spam \n",
    "attack."
   ]
  },
  {
   "cell_type": "markdown",
   "id": "ac22ffea",
   "metadata": {},
   "source": [
    "\n",
    "In conclusion, the decision tree model with depth 1 performs similar to the MLP model\n",
    "in terms of accuracy.\n"
   ]
  }
 ],
 "metadata": {
  "kernelspec": {
   "display_name": "Python 3 (ipykernel)",
   "language": "python",
   "name": "python3"
  },
  "language_info": {
   "codemirror_mode": {
    "name": "ipython",
    "version": 3
   },
   "file_extension": ".py",
   "mimetype": "text/x-python",
   "name": "python",
   "nbconvert_exporter": "python",
   "pygments_lexer": "ipython3",
   "version": "3.8.18"
  }
 },
 "nbformat": 4,
 "nbformat_minor": 5
}
