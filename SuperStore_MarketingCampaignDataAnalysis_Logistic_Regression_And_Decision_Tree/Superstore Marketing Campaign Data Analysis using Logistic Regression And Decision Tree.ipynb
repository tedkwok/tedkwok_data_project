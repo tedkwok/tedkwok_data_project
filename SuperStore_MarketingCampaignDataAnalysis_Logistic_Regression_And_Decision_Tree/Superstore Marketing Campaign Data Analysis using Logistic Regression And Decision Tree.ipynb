{
 "cells": [
  {
   "cell_type": "markdown",
   "id": "1a1c934f-7d3e-4c4d-a3fc-4197fb2a33c7",
   "metadata": {},
   "source": [
    "# Superstore Marketing Campaign Data Analysis using Logistic Regression And Decision Tree"
   ]
  },
  {
   "cell_type": "markdown",
   "id": "8d148892-b052-4e4a-a1c8-862892151a9b",
   "metadata": {},
   "source": [
    "## Background\n",
    "\n",
    "The superstore is going to organize a new marketing campaign this year and want to invite the customers to join the upcoming campaign.\n",
    "\n",
    "To reduce the cost of invitation and better utilize the capacity of the campaign venue, \n",
    "\n",
    "the supermarket requests data analysis to identify which type of customers are the high potential participants (more willing to accept the campaign \n",
    "offer from superstore) based on last year's campaign data and sends the invitation to the high potential customers. \n",
    "\n",
    "Also, the superstore requests advice about the improvements we are able to make based on last year's campaign data."
   ]
  },
  {
   "cell_type": "markdown",
   "id": "ccffb04a-aebf-4551-9aa3-1790c85da285",
   "metadata": {},
   "source": [
    "## Requirement\n",
    "\n",
    "- Identify the customer with high potential\n",
    "- Which type of the product should be the focus on the upcoming event\n",
    "- Whether offering the delivery service in the campaign can boost the revenue of the campaign\n",
    "- Whether offering a child care service in the campaign can boost the revenue of the campaign\n",
    "- Other suggestion made"
   ]
  },
  {
   "cell_type": "markdown",
   "id": "f84b8d67-337f-49db-b764-84714c8071d6",
   "metadata": {},
   "source": [
    "## Last year marketing campaign data"
   ]
  },
  {
   "cell_type": "code",
   "execution_count": 445,
   "id": "d788285f-d0cc-41f9-a687-60cdba8cf941",
   "metadata": {},
   "outputs": [
    {
     "data": {
      "text/html": [
       "<div>\n",
       "<style scoped>\n",
       "    .dataframe tbody tr th:only-of-type {\n",
       "        vertical-align: middle;\n",
       "    }\n",
       "\n",
       "    .dataframe tbody tr th {\n",
       "        vertical-align: top;\n",
       "    }\n",
       "\n",
       "    .dataframe thead th {\n",
       "        text-align: right;\n",
       "    }\n",
       "</style>\n",
       "<table border=\"1\" class=\"dataframe\">\n",
       "  <thead>\n",
       "    <tr style=\"text-align: right;\">\n",
       "      <th></th>\n",
       "      <th>Variable</th>\n",
       "      <th>Description</th>\n",
       "    </tr>\n",
       "  </thead>\n",
       "  <tbody>\n",
       "    <tr>\n",
       "      <th>0</th>\n",
       "      <td>Response</td>\n",
       "      <td>1 if customer accepted the offer in the last c...</td>\n",
       "    </tr>\n",
       "    <tr>\n",
       "      <th>1</th>\n",
       "      <td>ID</td>\n",
       "      <td>Unique ID of each customer</td>\n",
       "    </tr>\n",
       "    <tr>\n",
       "      <th>2</th>\n",
       "      <td>Year_Birth</td>\n",
       "      <td>Age of the customer</td>\n",
       "    </tr>\n",
       "    <tr>\n",
       "      <th>3</th>\n",
       "      <td>Complain</td>\n",
       "      <td>1 if the customer compalined in the last 2 years</td>\n",
       "    </tr>\n",
       "    <tr>\n",
       "      <th>4</th>\n",
       "      <td>Dt_Customer</td>\n",
       "      <td>date of the customers enrollment with the company</td>\n",
       "    </tr>\n",
       "    <tr>\n",
       "      <th>5</th>\n",
       "      <td>Education</td>\n",
       "      <td>level of Education</td>\n",
       "    </tr>\n",
       "    <tr>\n",
       "      <th>6</th>\n",
       "      <td>Maritial</td>\n",
       "      <td>customers maritial status</td>\n",
       "    </tr>\n",
       "    <tr>\n",
       "      <th>7</th>\n",
       "      <td>Kidhome</td>\n",
       "      <td>number of small children in customers household</td>\n",
       "    </tr>\n",
       "    <tr>\n",
       "      <th>8</th>\n",
       "      <td>Teenhome</td>\n",
       "      <td>number of teenagers in customers household</td>\n",
       "    </tr>\n",
       "    <tr>\n",
       "      <th>9</th>\n",
       "      <td>Income</td>\n",
       "      <td>customers yearly household income</td>\n",
       "    </tr>\n",
       "    <tr>\n",
       "      <th>10</th>\n",
       "      <td>MntFishProducts</td>\n",
       "      <td>the amount spent on fish products in the last ...</td>\n",
       "    </tr>\n",
       "    <tr>\n",
       "      <th>11</th>\n",
       "      <td>MntMeatProducts</td>\n",
       "      <td>the amount spent on meant products in the last...</td>\n",
       "    </tr>\n",
       "    <tr>\n",
       "      <th>12</th>\n",
       "      <td>MntFruits</td>\n",
       "      <td>the amount spent on fruits product in the last...</td>\n",
       "    </tr>\n",
       "    <tr>\n",
       "      <th>13</th>\n",
       "      <td>MntSweetProducts</td>\n",
       "      <td>the amount spent on sweet products in the last...</td>\n",
       "    </tr>\n",
       "    <tr>\n",
       "      <th>14</th>\n",
       "      <td>MntWines</td>\n",
       "      <td>the amount spent on wine products in the last ...</td>\n",
       "    </tr>\n",
       "    <tr>\n",
       "      <th>15</th>\n",
       "      <td>MntGoldProd</td>\n",
       "      <td>the amount spent on gold products in the last ...</td>\n",
       "    </tr>\n",
       "    <tr>\n",
       "      <th>16</th>\n",
       "      <td>NumDealsPurchases</td>\n",
       "      <td>number of purchase made with discount</td>\n",
       "    </tr>\n",
       "    <tr>\n",
       "      <th>17</th>\n",
       "      <td>NumCatalogPurchase</td>\n",
       "      <td>number of purchasee made using catalog (buying...</td>\n",
       "    </tr>\n",
       "    <tr>\n",
       "      <th>18</th>\n",
       "      <td>NumStorePurchases</td>\n",
       "      <td>number of purchase made directly in stores</td>\n",
       "    </tr>\n",
       "    <tr>\n",
       "      <th>19</th>\n",
       "      <td>NumWebPurchases</td>\n",
       "      <td>number of purchase made through the companys w...</td>\n",
       "    </tr>\n",
       "    <tr>\n",
       "      <th>20</th>\n",
       "      <td>NumWebVisitsMonth</td>\n",
       "      <td>number of visits to companys website in the la...</td>\n",
       "    </tr>\n",
       "    <tr>\n",
       "      <th>21</th>\n",
       "      <td>Recency</td>\n",
       "      <td>number of days since the last purchase</td>\n",
       "    </tr>\n",
       "  </tbody>\n",
       "</table>\n",
       "</div>"
      ],
      "text/plain": [
       "              Variable                                        Description\n",
       "0             Response  1 if customer accepted the offer in the last c...\n",
       "1                   ID                         Unique ID of each customer\n",
       "2           Year_Birth                                Age of the customer\n",
       "3             Complain  1 if the customer compalined in the last 2 years \n",
       "4          Dt_Customer  date of the customers enrollment with the company\n",
       "5            Education                                 level of Education\n",
       "6             Maritial                          customers maritial status\n",
       "7              Kidhome    number of small children in customers household\n",
       "8             Teenhome         number of teenagers in customers household\n",
       "9               Income                  customers yearly household income\n",
       "10     MntFishProducts  the amount spent on fish products in the last ...\n",
       "11     MntMeatProducts  the amount spent on meant products in the last...\n",
       "12           MntFruits  the amount spent on fruits product in the last...\n",
       "13    MntSweetProducts  the amount spent on sweet products in the last...\n",
       "14            MntWines  the amount spent on wine products in the last ...\n",
       "15         MntGoldProd  the amount spent on gold products in the last ...\n",
       "16   NumDealsPurchases              number of purchase made with discount\n",
       "17  NumCatalogPurchase  number of purchasee made using catalog (buying...\n",
       "18   NumStorePurchases         number of purchase made directly in stores\n",
       "19     NumWebPurchases  number of purchase made through the companys w...\n",
       "20   NumWebVisitsMonth  number of visits to companys website in the la...\n",
       "21             Recency             number of days since the last purchase"
      ]
     },
     "execution_count": 445,
     "metadata": {},
     "output_type": "execute_result"
    }
   ],
   "source": [
    "Variable =  [\"Response\" ,\"ID\",\"Year_Birth\" ,\"Complain\",\"Dt_Customer\",\"Education\",\"Maritial\",\"Kidhome\",\"Teenhome\",\"Income\",\"MntFishProducts\",\"MntMeatProducts\",\"MntFruits\",\"MntSweetProducts\",\"MntWines\",\"MntGoldProd\",\"NumDealsPurchases\",\"NumCatalogPurchase\",\"NumStorePurchases\",\"NumWebPurchases\",\"NumWebVisitsMonth\",\"Recency\"] \n",
    "\n",
    "Description = ['1 if customer accepted the offer in the last campaign, 0 otherwise','Unique ID of each customer','Age of the customer','1 if the customer compalined in the last 2 years ','date of the customers enrollment with the company','level of Education','customers maritial status','number of small children in customers household','number of teenagers in customers household','customers yearly household income','the amount spent on fish products in the last 2 years','the amount spent on meant products in the last 2 years','the amount spent on fruits product in the last 2 years','the amount spent on sweet products in the last 2 years','the amount spent on wine products in the last 2 years','the amount spent on gold products in the last 2 years','number of purchase made with discount','number of purchasee made using catalog (buying goods to be shipped through the mail)','number of purchase made directly in stores','number of purchase made through the companys website','number of visits to companys website in the last month','number of days since the last purchase']\n",
    "\n",
    "Variable = pd.DataFrame(Variable)\n",
    "Description = pd.DataFrame(Description)\n",
    "data_name = pd.concat([Variable, Description], axis = 1)\n",
    "data_name.columns = [\"Variable\",\"Description\"]\n",
    "data_name"
   ]
  },
  {
   "cell_type": "markdown",
   "id": "aba82057-f890-4d12-90ef-de6946a20c6a",
   "metadata": {},
   "source": [
    "## Python library"
   ]
  },
  {
   "cell_type": "code",
   "execution_count": 413,
   "id": "be240790-bfc3-4728-8dae-e1dda7aa0d7d",
   "metadata": {},
   "outputs": [],
   "source": [
    "import pandas as pd\n",
    "import matplotlib.pyplot as plt\n",
    "import seaborn as sns\n",
    "from sklearn.linear_model import LogisticRegression\n",
    "from sklearn.tree import DecisionTreeClassifier,plot_tree\n",
    "from sklearn.metrics import accuracy_score, recall_score, precision_score, f1_score"
   ]
  },
  {
   "cell_type": "markdown",
   "id": "d37aff07-be89-4c5d-a0cb-8905360c0c14",
   "metadata": {},
   "source": [
    "## Import the dataset"
   ]
  },
  {
   "cell_type": "code",
   "execution_count": 97,
   "id": "4016edff-f43f-426e-baf4-4dfa0f65d567",
   "metadata": {},
   "outputs": [],
   "source": [
    "data =pd.read_csv(\"superstore_data.csv\")"
   ]
  },
  {
   "cell_type": "markdown",
   "id": "cccb759c-11f5-4c5f-bd1c-253b689fe6a1",
   "metadata": {},
   "source": [
    "## Viewing the dataset"
   ]
  },
  {
   "cell_type": "code",
   "execution_count": 130,
   "id": "ad0f3caa-be77-4ec1-8e64-7c8555034f8f",
   "metadata": {},
   "outputs": [
    {
     "name": "stdout",
     "output_type": "stream",
     "text": [
      "The shape of the dataset: 2240 X 22\n",
      "\n",
      "      Id  Year_Birth   Education Marital_Status   Income  Kidhome  Teenhome  \\\n",
      "0   1826        1970  Graduation       Divorced  84835.0        0         0   \n",
      "1      1        1961  Graduation         Single  57091.0        0         0   \n",
      "2  10476        1958  Graduation        Married  67267.0        0         1   \n",
      "\n",
      "  Dt_Customer  Recency  MntWines  ...  MntFishProducts  MntSweetProducts  \\\n",
      "0   6/16/2014        0       189  ...              111               189   \n",
      "1   6/15/2014        0       464  ...                7                 0   \n",
      "2   5/13/2014        0       134  ...               15                 2   \n",
      "\n",
      "   MntGoldProds  NumDealsPurchases  NumWebPurchases  NumCatalogPurchases  \\\n",
      "0           218                  1                4                    4   \n",
      "1            37                  1                7                    3   \n",
      "2            30                  1                3                    2   \n",
      "\n",
      "   NumStorePurchases  NumWebVisitsMonth  Response  Complain  \n",
      "0                  6                  1         1         0  \n",
      "1                  7                  5         1         0  \n",
      "2                  5                  2         0         0  \n",
      "\n",
      "[3 rows x 22 columns]\n"
     ]
    }
   ],
   "source": [
    "#showing the shape of the dataset\n",
    "print(\"The shape of the dataset: \"+str(data.shape[0]) +\" X \"+ str(data.shape[1])+\"\\n\")\n",
    "\n",
    "# showing the 3 data in the dataset\n",
    "print(data.head(3))\n"
   ]
  },
  {
   "cell_type": "markdown",
   "id": "f10c41c2-b682-4874-b3d8-9e40b1f7dd8d",
   "metadata": {},
   "source": [
    "## Data Cleansing\n",
    "\n",
    "* check missing value in the dataset\n",
    "* check the data with impossible value\n",
    "* check the data type of each column"
   ]
  },
  {
   "cell_type": "markdown",
   "id": "50779164-a2f9-4516-a368-0b7eb7b7349f",
   "metadata": {},
   "source": [
    "### Check missing value in the dataset"
   ]
  },
  {
   "cell_type": "code",
   "execution_count": 8,
   "id": "49a9fdd3-489e-4ab8-98ef-74120b92df98",
   "metadata": {},
   "outputs": [
    {
     "name": "stdout",
     "output_type": "stream",
     "text": [
      "Id                      0\n",
      "Year_Birth              0\n",
      "Education               0\n",
      "Marital_Status          0\n",
      "Income                 24\n",
      "Kidhome                 0\n",
      "Teenhome                0\n",
      "Dt_Customer             0\n",
      "Recency                 0\n",
      "MntWines                0\n",
      "MntFruits               0\n",
      "MntMeatProducts         0\n",
      "MntFishProducts         0\n",
      "MntSweetProducts        0\n",
      "MntGoldProds            0\n",
      "NumDealsPurchases       0\n",
      "NumWebPurchases         0\n",
      "NumCatalogPurchases     0\n",
      "NumStorePurchases       0\n",
      "NumWebVisitsMonth       0\n",
      "Response                0\n",
      "Complain                0\n",
      "dtype: int64\n"
     ]
    }
   ],
   "source": [
    "# check the number of missing value in each of the columns\n",
    "print(data.isna().sum())"
   ]
  },
  {
   "cell_type": "code",
   "execution_count": 99,
   "id": "c9c2652e-76e9-4602-a3f6-b2f8f56bda8b",
   "metadata": {},
   "outputs": [
    {
     "name": "stdout",
     "output_type": "stream",
     "text": [
      "(2216, 22)\n"
     ]
    }
   ],
   "source": [
    "# Discard the record with missing value\n",
    "data_subset = data.dropna(axis=0)\n",
    "\n",
    "# check whether the record with missing data is discarded\n",
    "print(data_subset.shape)"
   ]
  },
  {
   "cell_type": "markdown",
   "id": "3255aa54-57a1-437c-afb8-208ff7d87c3e",
   "metadata": {},
   "source": [
    "### Check the data with impossible value"
   ]
  },
  {
   "cell_type": "code",
   "execution_count": 108,
   "id": "b716dc79-307c-4feb-b8c2-e28479c69091",
   "metadata": {},
   "outputs": [
    {
     "name": "stdout",
     "output_type": "stream",
     "text": [
      "                 Id   Year_Birth         Income      Kidhome     Teenhome  \\\n",
      "count   2216.000000  2216.000000    2216.000000  2216.000000  2216.000000   \n",
      "mean    5588.353339  1968.820397   52247.251354     0.441787     0.505415   \n",
      "std     3249.376275    11.985554   25173.076661     0.536896     0.544181   \n",
      "min        0.000000  1893.000000    1730.000000     0.000000     0.000000   \n",
      "25%     2814.750000  1959.000000   35303.000000     0.000000     0.000000   \n",
      "50%     5458.500000  1970.000000   51381.500000     0.000000     0.000000   \n",
      "75%     8421.750000  1977.000000   68522.000000     1.000000     1.000000   \n",
      "max    11191.000000  1996.000000  666666.000000     2.000000     2.000000   \n",
      "\n",
      "           Recency     MntWines    MntFruits  MntMeatProducts  \\\n",
      "count  2216.000000  2216.000000  2216.000000      2216.000000   \n",
      "mean     49.012635   305.091606    26.356047       166.995939   \n",
      "std      28.948352   337.327920    39.793917       224.283273   \n",
      "min       0.000000     0.000000     0.000000         0.000000   \n",
      "25%      24.000000    24.000000     2.000000        16.000000   \n",
      "50%      49.000000   174.500000     8.000000        68.000000   \n",
      "75%      74.000000   505.000000    33.000000       232.250000   \n",
      "max      99.000000  1493.000000   199.000000      1725.000000   \n",
      "\n",
      "       MntFishProducts  MntSweetProducts  MntGoldProds  NumDealsPurchases  \\\n",
      "count      2216.000000       2216.000000   2216.000000        2216.000000   \n",
      "mean         37.637635         27.028881     43.965253           2.323556   \n",
      "std          54.752082         41.072046     51.815414           1.923716   \n",
      "min           0.000000          0.000000      0.000000           0.000000   \n",
      "25%           3.000000          1.000000      9.000000           1.000000   \n",
      "50%          12.000000          8.000000     24.500000           2.000000   \n",
      "75%          50.000000         33.000000     56.000000           3.000000   \n",
      "max         259.000000        262.000000    321.000000          15.000000   \n",
      "\n",
      "       NumWebPurchases  NumCatalogPurchases  NumStorePurchases  \\\n",
      "count      2216.000000          2216.000000        2216.000000   \n",
      "mean          4.085289             2.671029           5.800993   \n",
      "std           2.740951             2.926734           3.250785   \n",
      "min           0.000000             0.000000           0.000000   \n",
      "25%           2.000000             0.000000           3.000000   \n",
      "50%           4.000000             2.000000           5.000000   \n",
      "75%           6.000000             4.000000           8.000000   \n",
      "max          27.000000            28.000000          13.000000   \n",
      "\n",
      "       NumWebVisitsMonth     Response     Complain  \n",
      "count        2216.000000  2216.000000  2216.000000  \n",
      "mean            5.319043     0.150271     0.009477  \n",
      "std             2.425359     0.357417     0.096907  \n",
      "min             0.000000     0.000000     0.000000  \n",
      "25%             3.000000     0.000000     0.000000  \n",
      "50%             6.000000     0.000000     0.000000  \n",
      "75%             7.000000     0.000000     0.000000  \n",
      "max            20.000000     1.000000     1.000000  \n"
     ]
    }
   ],
   "source": [
    "# chect whether there is any impossible data in the dataset for example the record with negative Income\n",
    "print(data_subset.describe())"
   ]
  },
  {
   "cell_type": "code",
   "execution_count": 218,
   "id": "acd1960d-2ba8-433d-9b22-95048c61a349",
   "metadata": {},
   "outputs": [
    {
     "name": "stdout",
     "output_type": "stream",
     "text": [
      "\n",
      " From the above, there is no data with impossible value at first glance\n"
     ]
    }
   ],
   "source": [
    "print(\"\\n From the above, there is no data with impossible value at first glance\")"
   ]
  },
  {
   "cell_type": "markdown",
   "id": "1957e901-f045-4985-a839-d2cdba975c8b",
   "metadata": {},
   "source": [
    "### Check the data type of each column"
   ]
  },
  {
   "cell_type": "code",
   "execution_count": 143,
   "id": "8243e51f-28a0-4983-9115-9bc5b0c5363e",
   "metadata": {},
   "outputs": [
    {
     "name": "stdout",
     "output_type": "stream",
     "text": [
      "<class 'pandas.core.frame.DataFrame'>\n",
      "Index: 2217 entries, 0 to Age\n",
      "Data columns (total 22 columns):\n",
      " #   Column               Non-Null Count  Dtype         \n",
      "---  ------               --------------  -----         \n",
      " 0   Id                   2216 non-null   float64       \n",
      " 1   Year_Birth           2216 non-null   float64       \n",
      " 2   Education            2216 non-null   object        \n",
      " 3   Marital_Status       2216 non-null   object        \n",
      " 4   Income               2216 non-null   float64       \n",
      " 5   Kidhome              2216 non-null   float64       \n",
      " 6   Teenhome             2216 non-null   float64       \n",
      " 7   Dt_Customer          2216 non-null   datetime64[ns]\n",
      " 8   Recency              2216 non-null   float64       \n",
      " 9   MntWines             2216 non-null   float64       \n",
      " 10  MntFruits            2216 non-null   float64       \n",
      " 11  MntMeatProducts      2216 non-null   float64       \n",
      " 12  MntFishProducts      2216 non-null   float64       \n",
      " 13  MntSweetProducts     2216 non-null   float64       \n",
      " 14  MntGoldProds         2216 non-null   float64       \n",
      " 15  NumDealsPurchases    2216 non-null   float64       \n",
      " 16  NumWebPurchases      2216 non-null   float64       \n",
      " 17  NumCatalogPurchases  2216 non-null   float64       \n",
      " 18  NumStorePurchases    2216 non-null   float64       \n",
      " 19  NumWebVisitsMonth    2216 non-null   float64       \n",
      " 20  Response             2216 non-null   float64       \n",
      " 21  Complain             2216 non-null   float64       \n",
      "dtypes: datetime64[ns](1), float64(19), object(2)\n",
      "memory usage: 398.4+ KB\n",
      "None\n"
     ]
    }
   ],
   "source": [
    "#showing the data type of each column in the dataset\n",
    "print(data_subset.info())"
   ]
  },
  {
   "cell_type": "code",
   "execution_count": 128,
   "id": "d6f5ab25-c7ba-40a9-981e-bb9b785c1b8f",
   "metadata": {},
   "outputs": [
    {
     "name": "stdout",
     "output_type": "stream",
     "text": [
      "\n",
      " There is no column with wrong data type\n"
     ]
    }
   ],
   "source": [
    "print(\"\\n There is no column with wrong data type\")"
   ]
  },
  {
   "cell_type": "markdown",
   "id": "fb3ae24b-7a3a-4939-97d7-90b01e3d6504",
   "metadata": {},
   "source": [
    "## Feature Engineering"
   ]
  },
  {
   "cell_type": "markdown",
   "id": "20f9a8d7-64bb-4168-998b-bfadf971838c",
   "metadata": {},
   "source": [
    "Data Transformation\n",
    "\n",
    "- Transform the Year_Birth column from year ot birth to age format\n",
    "- Transform the Dt_Customer column from date of the customer's enrollment with the company to the years enrolled in the company\n",
    "- Label Encoding the ordinal value in the Education column\n",
    "- One Hot Encoding the Marital State column\n",
    "- Discard the irrelevant columns"
   ]
  },
  {
   "cell_type": "markdown",
   "id": "8b6de336-3176-4c5b-9b55-ccec6fbb0d79",
   "metadata": {},
   "source": [
    "### Transform the Year_Birth column from year birth to age format"
   ]
  },
  {
   "cell_type": "code",
   "execution_count": 101,
   "id": "11b71cd5-6b2b-4510-87ff-6647e28accf3",
   "metadata": {},
   "outputs": [],
   "source": [
    "# Transform the Year_Birth column\n",
    "\n",
    "data_subset.loc[:,\"Year_Birth\"] = 2024 - data_subset[\"Year_Birth\"]\n",
    "data_subset = data_subset.rename(columns = {\"Year_Birth\":\"Age\"})"
   ]
  },
  {
   "cell_type": "code",
   "execution_count": 225,
   "id": "6597bd63-ddf8-49f4-9c6c-fba45ff680b6",
   "metadata": {},
   "outputs": [
    {
     "name": "stdout",
     "output_type": "stream",
     "text": [
      "count    2216.000000\n",
      "mean       55.179603\n",
      "std        11.985554\n",
      "min        28.000000\n",
      "25%        47.000000\n",
      "50%        54.000000\n",
      "75%        65.000000\n",
      "max       131.000000\n",
      "Name: Age, dtype: float64\n"
     ]
    }
   ],
   "source": [
    "# Validate the transfomred data \n",
    "\n",
    "print(data_subset[\"Age\"].describe())"
   ]
  },
  {
   "cell_type": "markdown",
   "id": "afb60f21-ff52-4fa4-aa6b-09d0b8468c9a",
   "metadata": {},
   "source": [
    "From the information in [https://www.sciencefocus.com/the-human-body/oldest-person-in-the-world], the oldest person has the age of 116.\n",
    "Therefore, the record with age 131 is invalid. \n",
    "To deal with the issue, discard the record."
   ]
  },
  {
   "cell_type": "code",
   "execution_count": 156,
   "id": "9f3165ee-01ad-4870-98b3-fe4aaeb414a8",
   "metadata": {},
   "outputs": [
    {
     "data": {
      "text/plain": [
       "3"
      ]
     },
     "execution_count": 156,
     "metadata": {},
     "output_type": "execute_result"
    }
   ],
   "source": [
    "# Check the number of record with age higher than 116\n",
    "(data_subset[\"Age\"]>116).sum()"
   ]
  },
  {
   "cell_type": "code",
   "execution_count": 103,
   "id": "b1384e22-abe0-46e9-81ad-d028634b892b",
   "metadata": {},
   "outputs": [],
   "source": [
    "#Discard the record with age higher than 116\n",
    "data_subset = data_subset[data_subset[\"Age\"]<116]"
   ]
  },
  {
   "cell_type": "code",
   "execution_count": 160,
   "id": "aeb16b18-a1c7-43b5-88d0-f3ec796a68dd",
   "metadata": {},
   "outputs": [
    {
     "data": {
      "text/plain": [
       "(2213, 22)"
      ]
     },
     "execution_count": 160,
     "metadata": {},
     "output_type": "execute_result"
    }
   ],
   "source": [
    "#Check the shape of the dataset\n",
    "data_subset.shape"
   ]
  },
  {
   "cell_type": "markdown",
   "id": "ec1b81e2-7e8e-46e0-b4c2-be2e5d152c88",
   "metadata": {},
   "source": [
    "### Transform the Dt_Customer column from date of the customer enrollment with the company to the years enrolled in the company"
   ]
  },
  {
   "cell_type": "code",
   "execution_count": 105,
   "id": "c052c686-5302-4f69-a358-5bd9e020d2f9",
   "metadata": {},
   "outputs": [],
   "source": [
    "#Transform the Dt_Customer columns\n",
    "data_subset[\"Years_Customer\"] = 2024 - data_subset[\"Dt_Customer\"].str[-4:].astype(int)\n",
    "data_subset = data_subset.drop(columns= \"Dt_Customer\")"
   ]
  },
  {
   "cell_type": "code",
   "execution_count": 165,
   "id": "b47e99c4-61ad-4157-b527-c0158a4baebb",
   "metadata": {},
   "outputs": [
    {
     "data": {
      "text/plain": [
       "count    2213.000000\n",
       "mean       10.971984\n",
       "std         0.685771\n",
       "min        10.000000\n",
       "25%        11.000000\n",
       "50%        11.000000\n",
       "75%        11.000000\n",
       "max        12.000000\n",
       "Name: Years_Customer, dtype: float64"
      ]
     },
     "execution_count": 165,
     "metadata": {},
     "output_type": "execute_result"
    }
   ],
   "source": [
    "#Validate the transfomred data\n",
    "data_subset[\"Years_Customer\"].describe()"
   ]
  },
  {
   "cell_type": "markdown",
   "id": "11a77157-d6a3-4317-a89c-ff8445878dc2",
   "metadata": {},
   "source": [
    "From the above, the data is valid"
   ]
  },
  {
   "cell_type": "markdown",
   "id": "d351b230-1ac8-4020-9daf-d6882e2c9010",
   "metadata": {},
   "source": [
    "### Label Encoding the ordinal value in the Education column"
   ]
  },
  {
   "cell_type": "code",
   "execution_count": 169,
   "id": "db5e8921-1dee-4176-9995-1e4d1e92f041",
   "metadata": {},
   "outputs": [
    {
     "data": {
      "text/plain": [
       "array(['Graduation', 'PhD', '2n Cycle', 'Master', 'Basic'], dtype=object)"
      ]
     },
     "execution_count": 169,
     "metadata": {},
     "output_type": "execute_result"
    }
   ],
   "source": [
    "#Show the value in the Education column\n",
    "data_subset[\"Education\"].unique()"
   ]
  },
  {
   "cell_type": "markdown",
   "id": "90c0b6de-1e8d-444a-8e1a-fbd5886b12eb",
   "metadata": {},
   "source": [
    "The Education label shown below:\n",
    "\n",
    "* Basic: 1\n",
    "* Graduation: 2\n",
    "* 2n Cycle: 3\n",
    "* Master: 4\n",
    "* PhD: 5"
   ]
  },
  {
   "cell_type": "code",
   "execution_count": 107,
   "id": "7940cd58-b00a-4bab-8025-d0525b42c2d2",
   "metadata": {},
   "outputs": [],
   "source": [
    "#Define the match key\n",
    "key={\"Basic\":1, \"Graduation\":2, \"2n Cycle\":3, \"Master\":4, \"PhD\":5}"
   ]
  },
  {
   "cell_type": "code",
   "execution_count": 109,
   "id": "705f9601-98da-4ca7-b9a2-db5b292eca85",
   "metadata": {},
   "outputs": [],
   "source": [
    "#Label Encoding\n",
    "data_subset[\"Educations\"]=data_subset[\"Education\"].map(key)\n",
    "data_subset = data_subset.drop(columns= \"Education\")"
   ]
  },
  {
   "cell_type": "code",
   "execution_count": 111,
   "id": "337011ed-d43f-42b4-b7cc-7979521d55e7",
   "metadata": {},
   "outputs": [
    {
     "data": {
      "text/plain": [
       "array([2, 5, 3, 4, 1], dtype=int64)"
      ]
     },
     "execution_count": 111,
     "metadata": {},
     "output_type": "execute_result"
    }
   ],
   "source": [
    "#Check whether key is assigned\n",
    "data_subset[\"Educations\"].unique()"
   ]
  },
  {
   "cell_type": "markdown",
   "id": "4614f820-f893-40fd-b221-55db239a759c",
   "metadata": {},
   "source": [
    "From the above, the key is properly assigned"
   ]
  },
  {
   "cell_type": "markdown",
   "id": "eb1e5247-734d-4aaf-8d91-d4b2a57b83e7",
   "metadata": {},
   "source": [
    "### One Hot Encoding the Marital Status column"
   ]
  },
  {
   "cell_type": "code",
   "execution_count": 113,
   "id": "82ef7cc9-39fe-4f8f-ac19-552a203a4abd",
   "metadata": {},
   "outputs": [],
   "source": [
    "data_subset = pd.get_dummies(data = data_subset, columns = [\"Marital_Status\"],dtype=int)"
   ]
  },
  {
   "cell_type": "code",
   "execution_count": 115,
   "id": "62eed476-bb04-4bcb-a4f2-7132a831ee51",
   "metadata": {},
   "outputs": [
    {
     "data": {
      "text/html": [
       "<div>\n",
       "<style scoped>\n",
       "    .dataframe tbody tr th:only-of-type {\n",
       "        vertical-align: middle;\n",
       "    }\n",
       "\n",
       "    .dataframe tbody tr th {\n",
       "        vertical-align: top;\n",
       "    }\n",
       "\n",
       "    .dataframe thead th {\n",
       "        text-align: right;\n",
       "    }\n",
       "</style>\n",
       "<table border=\"1\" class=\"dataframe\">\n",
       "  <thead>\n",
       "    <tr style=\"text-align: right;\">\n",
       "      <th></th>\n",
       "      <th>Id</th>\n",
       "      <th>Age</th>\n",
       "      <th>Income</th>\n",
       "      <th>Kidhome</th>\n",
       "      <th>Teenhome</th>\n",
       "      <th>Recency</th>\n",
       "      <th>MntWines</th>\n",
       "      <th>MntFruits</th>\n",
       "      <th>MntMeatProducts</th>\n",
       "      <th>MntFishProducts</th>\n",
       "      <th>...</th>\n",
       "      <th>Years_Customer</th>\n",
       "      <th>Educations</th>\n",
       "      <th>Marital_Status_Absurd</th>\n",
       "      <th>Marital_Status_Alone</th>\n",
       "      <th>Marital_Status_Divorced</th>\n",
       "      <th>Marital_Status_Married</th>\n",
       "      <th>Marital_Status_Single</th>\n",
       "      <th>Marital_Status_Together</th>\n",
       "      <th>Marital_Status_Widow</th>\n",
       "      <th>Marital_Status_YOLO</th>\n",
       "    </tr>\n",
       "  </thead>\n",
       "  <tbody>\n",
       "    <tr>\n",
       "      <th>0</th>\n",
       "      <td>1826</td>\n",
       "      <td>54</td>\n",
       "      <td>84835.0</td>\n",
       "      <td>0</td>\n",
       "      <td>0</td>\n",
       "      <td>0</td>\n",
       "      <td>189</td>\n",
       "      <td>104</td>\n",
       "      <td>379</td>\n",
       "      <td>111</td>\n",
       "      <td>...</td>\n",
       "      <td>10</td>\n",
       "      <td>2</td>\n",
       "      <td>0</td>\n",
       "      <td>0</td>\n",
       "      <td>1</td>\n",
       "      <td>0</td>\n",
       "      <td>0</td>\n",
       "      <td>0</td>\n",
       "      <td>0</td>\n",
       "      <td>0</td>\n",
       "    </tr>\n",
       "    <tr>\n",
       "      <th>1</th>\n",
       "      <td>1</td>\n",
       "      <td>63</td>\n",
       "      <td>57091.0</td>\n",
       "      <td>0</td>\n",
       "      <td>0</td>\n",
       "      <td>0</td>\n",
       "      <td>464</td>\n",
       "      <td>5</td>\n",
       "      <td>64</td>\n",
       "      <td>7</td>\n",
       "      <td>...</td>\n",
       "      <td>10</td>\n",
       "      <td>2</td>\n",
       "      <td>0</td>\n",
       "      <td>0</td>\n",
       "      <td>0</td>\n",
       "      <td>0</td>\n",
       "      <td>1</td>\n",
       "      <td>0</td>\n",
       "      <td>0</td>\n",
       "      <td>0</td>\n",
       "    </tr>\n",
       "  </tbody>\n",
       "</table>\n",
       "<p>2 rows × 29 columns</p>\n",
       "</div>"
      ],
      "text/plain": [
       "     Id  Age   Income  Kidhome  Teenhome  Recency  MntWines  MntFruits  \\\n",
       "0  1826   54  84835.0        0         0        0       189        104   \n",
       "1     1   63  57091.0        0         0        0       464          5   \n",
       "\n",
       "   MntMeatProducts  MntFishProducts  ...  Years_Customer  Educations  \\\n",
       "0              379              111  ...              10           2   \n",
       "1               64                7  ...              10           2   \n",
       "\n",
       "   Marital_Status_Absurd  Marital_Status_Alone  Marital_Status_Divorced  \\\n",
       "0                      0                     0                        1   \n",
       "1                      0                     0                        0   \n",
       "\n",
       "   Marital_Status_Married  Marital_Status_Single  Marital_Status_Together  \\\n",
       "0                       0                      0                        0   \n",
       "1                       0                      1                        0   \n",
       "\n",
       "   Marital_Status_Widow  Marital_Status_YOLO  \n",
       "0                     0                    0  \n",
       "1                     0                    0  \n",
       "\n",
       "[2 rows x 29 columns]"
      ]
     },
     "execution_count": 115,
     "metadata": {},
     "output_type": "execute_result"
    }
   ],
   "source": [
    "#Show the dataset after one hot encoding\n",
    "data_subset.head(2)"
   ]
  },
  {
   "cell_type": "markdown",
   "id": "e452c009-7823-497a-9139-d98fef2055f8",
   "metadata": {},
   "source": [
    "### Discard the irrelevant columns"
   ]
  },
  {
   "cell_type": "code",
   "execution_count": 185,
   "id": "56542653-d050-4422-a980-9e0fe4ac9d26",
   "metadata": {},
   "outputs": [
    {
     "data": {
      "image/png": "[encoded data removed]",
      "text/plain": [
       "<Figure size 640x480 with 1 Axes>"
      ]
     },
     "metadata": {},
     "output_type": "display_data"
    }
   ],
   "source": [
    "sns.histplot(x=data_subset[\"Complain\"])\n",
    "plt.title(\"histogram of the complain made\")\n",
    "plt.show()"
   ]
  },
  {
   "cell_type": "markdown",
   "id": "4d4b8ead-6639-4623-8ef9-28703383a0ef",
   "metadata": {},
   "source": [
    "From the above, it is seen that there is only a few complain case in the dataset. Complain column does not provide enough predictive power.\n",
    "Therefore, it will be dropped"
   ]
  },
  {
   "cell_type": "code",
   "execution_count": 117,
   "id": "7a86ab01-7fd5-44bc-bd43-8c576191682c",
   "metadata": {},
   "outputs": [],
   "source": [
    "#Drop the Complain Column\n",
    "data_subset = data_subset.drop(columns= \"Complain\")"
   ]
  },
  {
   "cell_type": "code",
   "execution_count": 239,
   "id": "2f234d01-50ce-4398-beba-5d86b303b978",
   "metadata": {},
   "outputs": [
    {
     "data": {
      "text/plain": [
       "2213"
      ]
     },
     "execution_count": 239,
     "metadata": {},
     "output_type": "execute_result"
    }
   ],
   "source": [
    "#Check how many record associated to one Id\n",
    "\n",
    "(data_subset.groupby(\"Id\")[\"Response\"].count() ==1).sum()"
   ]
  },
  {
   "cell_type": "markdown",
   "id": "45b351ab-8516-47f4-a06a-d945a62aca72",
   "metadata": {},
   "source": [
    "From the above, the result shows that 2213 id associate with 2213 records.\n",
    "That means one Id only associates with one record. \n",
    "The Id column does not provide much information. Therefore, discard the Id column"
   ]
  },
  {
   "cell_type": "code",
   "execution_count": 119,
   "id": "185440a7-e6e9-49ab-a8da-0483bf8e9b5e",
   "metadata": {},
   "outputs": [],
   "source": [
    "#Drop the Id column\n",
    "\n",
    "data_subset = data_subset.drop(columns= \"Id\")"
   ]
  },
  {
   "cell_type": "code",
   "execution_count": 121,
   "id": "76dc29e1-1d20-4c04-9c4e-a66d9700cc62",
   "metadata": {},
   "outputs": [
    {
     "data": {
      "text/plain": [
       "Index(['Age', 'Income', 'Kidhome', 'Teenhome', 'Recency', 'MntWines',\n",
       "       'MntFruits', 'MntMeatProducts', 'MntFishProducts', 'MntSweetProducts',\n",
       "       'MntGoldProds', 'NumDealsPurchases', 'NumWebPurchases',\n",
       "       'NumCatalogPurchases', 'NumStorePurchases', 'NumWebVisitsMonth',\n",
       "       'Response', 'Years_Customer', 'Educations', 'Marital_Status_Absurd',\n",
       "       'Marital_Status_Alone', 'Marital_Status_Divorced',\n",
       "       'Marital_Status_Married', 'Marital_Status_Single',\n",
       "       'Marital_Status_Together', 'Marital_Status_Widow',\n",
       "       'Marital_Status_YOLO'],\n",
       "      dtype='object')"
      ]
     },
     "execution_count": 121,
     "metadata": {},
     "output_type": "execute_result"
    }
   ],
   "source": [
    "#Show the column name in the dataset\n",
    "\n",
    "data_subset.columns"
   ]
  },
  {
   "cell_type": "markdown",
   "id": "3eef29e5-6724-43ee-a648-48d9ed8a3e8f",
   "metadata": {},
   "source": [
    "## Data Analysis with Logistic Regression\n",
    "\n",
    "Logistic Regression is a model dealing with the dataset with categorical response variable and providing a clear explanation of impact of each predictor variable to response variable. \n",
    "\n",
    "\n",
    "To meet the requirement from the superstore (explanation of the insight) and the format of this dataset (categorical response variable), logisitc regression is used\n",
    "\n",
    "\n",
    "This project uses Logistic Regression for analyzing the data instead of building a prediction model, therefore splitting the dataset into training data and testing data is not needed"
   ]
  },
  {
   "cell_type": "code",
   "execution_count": 279,
   "id": "64c65f59-254c-4cbd-8e66-f5d3c04c53e5",
   "metadata": {},
   "outputs": [],
   "source": [
    "#split the dataset into repsonse dataset and predictor dataset\n",
    "X= data_subset.drop(columns = ['Response'])\n",
    "y= data_subset[\"Response\"]"
   ]
  },
  {
   "cell_type": "code",
   "execution_count": 281,
   "id": "2f892ea8-1862-42e7-8dfb-766bd336d97a",
   "metadata": {},
   "outputs": [],
   "source": [
    "#Forming the Logistic Regression\n",
    "logistic_reg = LogisticRegression(max_iter =1000000, solver=\"sag\")\n",
    "model = logistic_reg.fit(X,y)"
   ]
  },
  {
   "cell_type": "code",
   "execution_count": 282,
   "id": "926b3580-59bb-4c8b-97a3-0e0943a46737",
   "metadata": {},
   "outputs": [
    {
     "data": {
      "text/html": [
       "<div>\n",
       "<style scoped>\n",
       "    .dataframe tbody tr th:only-of-type {\n",
       "        vertical-align: middle;\n",
       "    }\n",
       "\n",
       "    .dataframe tbody tr th {\n",
       "        vertical-align: top;\n",
       "    }\n",
       "\n",
       "    .dataframe thead th {\n",
       "        text-align: right;\n",
       "    }\n",
       "</style>\n",
       "<table border=\"1\" class=\"dataframe\">\n",
       "  <thead>\n",
       "    <tr style=\"text-align: right;\">\n",
       "      <th></th>\n",
       "      <th>column_name</th>\n",
       "      <th>coefficient</th>\n",
       "    </tr>\n",
       "  </thead>\n",
       "  <tbody>\n",
       "    <tr>\n",
       "      <th>5</th>\n",
       "      <td>MntWines</td>\n",
       "      <td>1.988812e-03</td>\n",
       "    </tr>\n",
       "    <tr>\n",
       "      <th>7</th>\n",
       "      <td>MntMeatProducts</td>\n",
       "      <td>1.645440e-03</td>\n",
       "    </tr>\n",
       "    <tr>\n",
       "      <th>8</th>\n",
       "      <td>MntFishProducts</td>\n",
       "      <td>1.665720e-04</td>\n",
       "    </tr>\n",
       "    <tr>\n",
       "      <th>9</th>\n",
       "      <td>MntSweetProducts</td>\n",
       "      <td>1.484992e-04</td>\n",
       "    </tr>\n",
       "    <tr>\n",
       "      <th>6</th>\n",
       "      <td>MntFruits</td>\n",
       "      <td>1.472023e-04</td>\n",
       "    </tr>\n",
       "    <tr>\n",
       "      <th>10</th>\n",
       "      <td>MntGoldProds</td>\n",
       "      <td>1.328453e-04</td>\n",
       "    </tr>\n",
       "    <tr>\n",
       "      <th>13</th>\n",
       "      <td>NumCatalogPurchases</td>\n",
       "      <td>1.815429e-05</td>\n",
       "    </tr>\n",
       "    <tr>\n",
       "      <th>22</th>\n",
       "      <td>Marital_Status_Single</td>\n",
       "      <td>5.319834e-07</td>\n",
       "    </tr>\n",
       "    <tr>\n",
       "      <th>24</th>\n",
       "      <td>Marital_Status_Widow</td>\n",
       "      <td>2.079305e-07</td>\n",
       "    </tr>\n",
       "    <tr>\n",
       "      <th>20</th>\n",
       "      <td>Marital_Status_Divorced</td>\n",
       "      <td>1.486574e-07</td>\n",
       "    </tr>\n",
       "    <tr>\n",
       "      <th>18</th>\n",
       "      <td>Marital_Status_Absurd</td>\n",
       "      <td>3.779892e-08</td>\n",
       "    </tr>\n",
       "    <tr>\n",
       "      <th>25</th>\n",
       "      <td>Marital_Status_YOLO</td>\n",
       "      <td>3.045907e-08</td>\n",
       "    </tr>\n",
       "    <tr>\n",
       "      <th>19</th>\n",
       "      <td>Marital_Status_Alone</td>\n",
       "      <td>2.099988e-08</td>\n",
       "    </tr>\n",
       "    <tr>\n",
       "      <th>12</th>\n",
       "      <td>NumWebPurchases</td>\n",
       "      <td>-4.071545e-08</td>\n",
       "    </tr>\n",
       "    <tr>\n",
       "      <th>23</th>\n",
       "      <td>Marital_Status_Together</td>\n",
       "      <td>-2.559845e-06</td>\n",
       "    </tr>\n",
       "    <tr>\n",
       "      <th>21</th>\n",
       "      <td>Marital_Status_Married</td>\n",
       "      <td>-3.467628e-06</td>\n",
       "    </tr>\n",
       "    <tr>\n",
       "      <th>3</th>\n",
       "      <td>Teenhome</td>\n",
       "      <td>-4.876535e-06</td>\n",
       "    </tr>\n",
       "    <tr>\n",
       "      <th>2</th>\n",
       "      <td>Kidhome</td>\n",
       "      <td>-4.922857e-06</td>\n",
       "    </tr>\n",
       "    <tr>\n",
       "      <th>17</th>\n",
       "      <td>Educations</td>\n",
       "      <td>-1.039982e-05</td>\n",
       "    </tr>\n",
       "    <tr>\n",
       "      <th>11</th>\n",
       "      <td>NumDealsPurchases</td>\n",
       "      <td>-1.341157e-05</td>\n",
       "    </tr>\n",
       "    <tr>\n",
       "      <th>14</th>\n",
       "      <td>NumStorePurchases</td>\n",
       "      <td>-1.549684e-05</td>\n",
       "    </tr>\n",
       "    <tr>\n",
       "      <th>15</th>\n",
       "      <td>NumWebVisitsMonth</td>\n",
       "      <td>-3.787762e-05</td>\n",
       "    </tr>\n",
       "    <tr>\n",
       "      <th>1</th>\n",
       "      <td>Income</td>\n",
       "      <td>-4.720703e-05</td>\n",
       "    </tr>\n",
       "    <tr>\n",
       "      <th>16</th>\n",
       "      <td>Years_Customer</td>\n",
       "      <td>-5.190893e-05</td>\n",
       "    </tr>\n",
       "    <tr>\n",
       "      <th>0</th>\n",
       "      <td>Age</td>\n",
       "      <td>-2.678148e-04</td>\n",
       "    </tr>\n",
       "    <tr>\n",
       "      <th>4</th>\n",
       "      <td>Recency</td>\n",
       "      <td>-4.721326e-04</td>\n",
       "    </tr>\n",
       "  </tbody>\n",
       "</table>\n",
       "</div>"
      ],
      "text/plain": [
       "                column_name   coefficient\n",
       "5                  MntWines  1.988812e-03\n",
       "7           MntMeatProducts  1.645440e-03\n",
       "8           MntFishProducts  1.665720e-04\n",
       "9          MntSweetProducts  1.484992e-04\n",
       "6                 MntFruits  1.472023e-04\n",
       "10             MntGoldProds  1.328453e-04\n",
       "13      NumCatalogPurchases  1.815429e-05\n",
       "22    Marital_Status_Single  5.319834e-07\n",
       "24     Marital_Status_Widow  2.079305e-07\n",
       "20  Marital_Status_Divorced  1.486574e-07\n",
       "18    Marital_Status_Absurd  3.779892e-08\n",
       "25      Marital_Status_YOLO  3.045907e-08\n",
       "19     Marital_Status_Alone  2.099988e-08\n",
       "12          NumWebPurchases -4.071545e-08\n",
       "23  Marital_Status_Together -2.559845e-06\n",
       "21   Marital_Status_Married -3.467628e-06\n",
       "3                  Teenhome -4.876535e-06\n",
       "2                   Kidhome -4.922857e-06\n",
       "17               Educations -1.039982e-05\n",
       "11        NumDealsPurchases -1.341157e-05\n",
       "14        NumStorePurchases -1.549684e-05\n",
       "15        NumWebVisitsMonth -3.787762e-05\n",
       "1                    Income -4.720703e-05\n",
       "16           Years_Customer -5.190893e-05\n",
       "0                       Age -2.678148e-04\n",
       "4                   Recency -4.721326e-04"
      ]
     },
     "execution_count": 282,
     "metadata": {},
     "output_type": "execute_result"
    }
   ],
   "source": [
    "#Display the coefficient of the variable in the Logistic Regression in descending order\n",
    "result_coef = pd.DataFrame({\"column_name\":X.columns, \"coefficient\":model.coef_[0]})\n",
    "result_coef.sort_values(by=\"coefficient\", ascending = False)"
   ]
  },
  {
   "cell_type": "markdown",
   "id": "ce4ad2a8-85ff-47e5-9213-f140af5ab7cd",
   "metadata": {},
   "source": [
    "Show how fit the model to the dataset"
   ]
  },
  {
   "cell_type": "code",
   "execution_count": 285,
   "id": "7352c9ff-fe37-42e1-af7e-f1a0539cbe7e",
   "metadata": {},
   "outputs": [
    {
     "data": {
      "text/html": [
       "<div>\n",
       "<style scoped>\n",
       "    .dataframe tbody tr th:only-of-type {\n",
       "        vertical-align: middle;\n",
       "    }\n",
       "\n",
       "    .dataframe tbody tr th {\n",
       "        vertical-align: top;\n",
       "    }\n",
       "\n",
       "    .dataframe thead th {\n",
       "        text-align: right;\n",
       "    }\n",
       "</style>\n",
       "<table border=\"1\" class=\"dataframe\">\n",
       "  <thead>\n",
       "    <tr style=\"text-align: right;\">\n",
       "      <th></th>\n",
       "      <th>accuracy</th>\n",
       "      <th>Recall</th>\n",
       "      <th>Precision</th>\n",
       "      <th>F1</th>\n",
       "    </tr>\n",
       "  </thead>\n",
       "  <tbody>\n",
       "    <tr>\n",
       "      <th>0</th>\n",
       "      <td>0.849977</td>\n",
       "      <td>0.012012</td>\n",
       "      <td>0.571429</td>\n",
       "      <td>0.023529</td>\n",
       "    </tr>\n",
       "  </tbody>\n",
       "</table>\n",
       "</div>"
      ],
      "text/plain": [
       "   accuracy    Recall  Precision        F1\n",
       "0  0.849977  0.012012   0.571429  0.023529"
      ]
     },
     "execution_count": 285,
     "metadata": {},
     "output_type": "execute_result"
    }
   ],
   "source": [
    "# Metric\n",
    "metric = pd.DataFrame({\"accuracy\":[accuracy_score(y,model.predict(X))],\n",
    "                       \"Recall\":[recall_score(y,model.predict(X))],\n",
    "                       \"Precision\":[precision_score(y,model.predict(X))],\n",
    "                       \"F1\":[f1_score(y,model.predict(X))]})\n",
    "metric"
   ]
  },
  {
   "cell_type": "markdown",
   "id": "d17167d9-347e-4d59-ac54-4d2a8ead3e31",
   "metadata": {},
   "source": [
    "### Insight\n",
    "\n",
    "Although the metrics do not show an eye-catching performance, the explanation from logistic regression can draw some good insight from dataset.\n",
    "\n",
    "From the logistic regression result, the characteristics of customers who are more willing to accept the offer are shown below:\n",
    "* Customers who purchase more wine or meat\n",
    "* Customers who have a lower number of days since the last purchase\n",
    "* Young customers\n",
    "\n",
    "The factors having low impact on the response:\n",
    "* Marital State\n",
    "* Number of purchasee made using catalog (buying goods to be shipped through the mail)\n",
    "* Number of small children in customer's household\n",
    "* Number of teenagers in customer's household\n",
    "* Number of purchase made through the company's website"
   ]
  },
  {
   "cell_type": "markdown",
   "id": "aaeaa0ea-d724-460a-9b1c-cad989af93c9",
   "metadata": {},
   "source": [
    "## Data Analysis With Decision Tree\n",
    "\n",
    "Decision Tree is a model that can provide a tree base explanation which can be used for deeper understanding of the dataset. \n",
    "\n",
    "In order to gain a deeper insight inside the dataset, Decision Tree is used afterwards.\n",
    "\n",
    "A deep depth may decrease the explanation power of the tree, so a Decision Tree with max_depth = 3 is used in this section"
   ]
  },
  {
   "cell_type": "code",
   "execution_count": 289,
   "id": "560743f5-7b50-466e-b3ed-e1964a9627f4",
   "metadata": {},
   "outputs": [],
   "source": [
    "#Building a Decision Tree\n",
    "tree= DecisionTreeClassifier(random_state = 0, max_depth = 3)\n",
    "model = tree.fit(data_subset.drop(columns=[\"Response\"]), y)"
   ]
  },
  {
   "cell_type": "code",
   "execution_count": 291,
   "id": "bca2941d-c037-4aa4-8ede-5b5965c6dea5",
   "metadata": {},
   "outputs": [
    {
     "data": {
      "image/png": "[encoded data removed]",
      "text/plain": [
       "<Figure size 2000x2000 with 1 Axes>"
      ]
     },
     "metadata": {},
     "output_type": "display_data"
    }
   ],
   "source": [
    "plt.figure(figsize = (20,20))\n",
    "ast =plot_tree(model,feature_names=X.columns, class_names =True)\n",
    "plt.show()"
   ]
  },
  {
   "cell_type": "markdown",
   "id": "73209d1e-7719-42a4-88bf-f2f54dc50419",
   "metadata": {},
   "source": [
    "Show how fit the model to the dataset"
   ]
  },
  {
   "cell_type": "code",
   "execution_count": 293,
   "id": "a3d66382-f59d-4a2b-975a-18b47c46d3fe",
   "metadata": {},
   "outputs": [
    {
     "data": {
      "text/html": [
       "<div>\n",
       "<style scoped>\n",
       "    .dataframe tbody tr th:only-of-type {\n",
       "        vertical-align: middle;\n",
       "    }\n",
       "\n",
       "    .dataframe tbody tr th {\n",
       "        vertical-align: top;\n",
       "    }\n",
       "\n",
       "    .dataframe thead th {\n",
       "        text-align: right;\n",
       "    }\n",
       "</style>\n",
       "<table border=\"1\" class=\"dataframe\">\n",
       "  <thead>\n",
       "    <tr style=\"text-align: right;\">\n",
       "      <th></th>\n",
       "      <th>accuracy</th>\n",
       "      <th>Recall</th>\n",
       "      <th>Precision</th>\n",
       "      <th>F1</th>\n",
       "    </tr>\n",
       "  </thead>\n",
       "  <tbody>\n",
       "    <tr>\n",
       "      <th>0</th>\n",
       "      <td>0.861726</td>\n",
       "      <td>0.111111</td>\n",
       "      <td>0.787234</td>\n",
       "      <td>0.194737</td>\n",
       "    </tr>\n",
       "  </tbody>\n",
       "</table>\n",
       "</div>"
      ],
      "text/plain": [
       "   accuracy    Recall  Precision        F1\n",
       "0  0.861726  0.111111   0.787234  0.194737"
      ]
     },
     "execution_count": 293,
     "metadata": {},
     "output_type": "execute_result"
    }
   ],
   "source": [
    "metric = pd.DataFrame({\"accuracy\":[accuracy_score(y,model.predict(X))],\n",
    "                       \"Recall\":[recall_score(y,model.predict(X))],\n",
    "                       \"Precision\":[precision_score(y,model.predict(X))],\n",
    "                       \"F1\":[f1_score(y,model.predict(X))]})\n",
    "metric"
   ]
  },
  {
   "cell_type": "markdown",
   "id": "f0208087-bebe-4b51-882c-9425f2820b1e",
   "metadata": {},
   "source": [
    "### Insight\n",
    "\n",
    "From the metrics table, among those identified as high potential customers, 78.7% are really high potential which is higher than 57.14% in regression model, indicating that the decision tree provides a more trustworthy explanation.\n",
    "\n",
    "\n",
    "\n",
    "From the tree diagram, two types customers are identified as customers with high potential (more willing to accept the offer from superstore)\n",
    "\n",
    "The characteristics of the first type customers\n",
    "* the amount spent on wine products in the last 2 years is lower than or equal to 815.5\n",
    "* number of days since the last purchase is smaller or equal to 20.5\n",
    "* number of visits to company's website in the last month is higher than 8.5\n",
    "\n",
    "The characyeristics of the second type customers\n",
    "* the amount spent on wine products in the last 2 years is higher than 815.5\n",
    "* the amount spent on meant products in the last 2 years is higher than 720\n",
    "* customer's yearly household income is higher than  70703.5\n",
    "\n"
   ]
  },
  {
   "cell_type": "markdown",
   "id": "3e54eb18-76d7-4d0b-96c3-94e9a36ca25b",
   "metadata": {},
   "source": [
    "Analysis of these two types customers\n",
    "* The first type customers are those who frequently purchase other than wine products. This type of customers may be house wife or worker who buy the daily use product from superstore to meet their daily requirement.\n",
    "\n",
    "* The second type customers are high-paid people who buy more wine and meat. This type of customers may be the party men who hold friends meetings or parties on weekend, so they create a huge demand for wine and meat."
   ]
  },
  {
   "cell_type": "markdown",
   "id": "26f59678-dac7-4fa6-985d-f9aa79777b1e",
   "metadata": {},
   "source": [
    "# Answer and Suggestion\n",
    "\n",
    "Identify the customer with high potential\n",
    "-  House wife or worker who buy the daily use product from superstore\n",
    "-  Party men who hold friends meetings or parties on weekend\n",
    "  \n",
    "Which type of the product should be the focus on the upcoming event\n",
    "-  Wine and Meat\n",
    "\n",
    "Whether offering the delivery service in the campaign can boost the revenue of the campaign\n",
    "-  No, as number of purchase through website is not a factor affecting the response a lot\n",
    "  \n",
    "Whether offering a child care service in the campaign can boost the revenue of the campaign\n",
    "-  No, as number of small children in customer's household is not a factor affecting the response a lot\n",
    "\n",
    "Other suggestion made\n",
    "- Set two areas in the campaign: daily use product area and party product area, to better serve those two types of customers\n",
    "- Offer more campaign information in the website can enhance the chance of first type customers accepting the offer"
   ]
  },
  {
   "cell_type": "markdown",
   "id": "c00bd0c1-7441-4e6d-8f47-e953eb4362e8",
   "metadata": {},
   "source": [
    "# Value of this business solution\n",
    "\n",
    "To value this business solution, it is crucial to ensure that the high potential customers (more willing to accept the campaign offer) identified by using above measures are also the high-value customers. \n",
    "\n",
    "Definition of the high-value customers:\n",
    "- Customers with income greater than top 25% income in the dataset, or\n",
    "- Customers with total product purchase greater than top 25% total product purchase in the dataset\n",
    "\n",
    "Definition of total product purchase:\n",
    "- Sum of the purchase amount of wines, fruits, meat, fish, sweet and gold\n",
    "\n",
    "Metrics:\n",
    "- Proportion of the high potential high-value customers among the high potential customers\n",
    "- Proportion of the high-value customers in the last campaign\n",
    "\n",
    "Definition of success business solution:\n",
    "- Proportion of the high potential high-value customers among the high potential customers > Proportion of the high-value customers in the last campaign"
   ]
  },
  {
   "cell_type": "code",
   "execution_count": 394,
   "id": "633f4820-05c4-4795-a96a-10b11eae46ae",
   "metadata": {},
   "outputs": [],
   "source": [
    "potential_customer = model.predict(X)\n",
    "\n",
    "X[\"total_product_purchase\"] = X['MntWines'] +X['MntFruits']+ X['MntMeatProducts']+ X['MntFishProducts'] +X['MntSweetProducts']+X['MntGoldProds']\n",
    "\n",
    "# Calculate the total number of the high potential high-value customer \n",
    "num_high_value_customer_in_potenial_customer=X[(potential_customer==1) &((X[\"total_product_purchase\"]>X[\"total_product_purchase\"].quantile(0.75))|(X[\"Income\"]>X[\"Income\"].quantile(0.75)))].shape[0]\n",
    "\n",
    "#Calculate total number of the high potential customer\n",
    "num_potential_customer = X[(potential_customer==1)].shape[0]"
   ]
  },
  {
   "cell_type": "code",
   "execution_count": 398,
   "id": "8760be77-eb87-420a-ba5d-1c8225b44b68",
   "metadata": {},
   "outputs": [
    {
     "data": {
      "text/plain": [
       "59.57446808510638"
      ]
     },
     "execution_count": 398,
     "metadata": {},
     "output_type": "execute_result"
    }
   ],
   "source": [
    "# Calculate the proportion of the high potential high-value customer \n",
    "num_high_value_customer_in_potenial_customer/num_potential_customer *100"
   ]
  },
  {
   "cell_type": "code",
   "execution_count": 404,
   "id": "787dd8cd-6591-4998-9024-264867344251",
   "metadata": {},
   "outputs": [
    {
     "data": {
      "text/plain": [
       "54.65465465465466"
      ]
     },
     "execution_count": 404,
     "metadata": {},
     "output_type": "execute_result"
    }
   ],
   "source": [
    "# Calculate the total number of the high-value customer in last campaign\n",
    "num_high_value_customer_in_campaign_customer=X[(y==1) &((X[\"total_product_purchase\"]>X[\"total_product_purchase\"].quantile(0.75))|(X[\"Income\"]>X[\"Income\"].quantile(0.75)))].shape[0]\n",
    "\n",
    "#Calculate total number of the customer in the last campaign\n",
    "num_campaign_customer = X[(y==1)].shape[0]\n",
    "\n",
    "# Calculate the proportion of the high-value customer in the last campaign\n",
    "num_high_value_customer_in_campaign_customer/num_campaign_customer *100"
   ]
  },
  {
   "cell_type": "markdown",
   "id": "9eaeb02c-9a65-4171-aa97-17f734826608",
   "metadata": {},
   "source": [
    "### Value driven by this success solution:\n",
    "\n",
    "From the above, it is expected that the proportion of the high-value customer in the upcoming campaign is 60% which is greater than 55% in the last campaign if this business solution is adopted."
   ]
  }
 ],
 "metadata": {
  "kernelspec": {
   "display_name": "Python 3 (ipykernel)",
   "language": "python",
   "name": "python3"
  },
  "language_info": {
   "codemirror_mode": {
    "name": "ipython",
    "version": 3
   },
   "file_extension": ".py",
   "mimetype": "text/x-python",
   "name": "python",
   "nbconvert_exporter": "python",
   "pygments_lexer": "ipython3",
   "version": "3.12.4"
  }
 },
 "nbformat": 4,
 "nbformat_minor": 5
}
